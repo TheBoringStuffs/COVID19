{
  "nbformat": 4,
  "nbformat_minor": 0,
  "metadata": {
    "colab": {
      "name": "EDA on COVID.ipynb",
      "provenance": [],
      "collapsed_sections": [],
      "toc_visible": true,
      "authorship_tag": "ABX9TyP+SnwakCu5rlpmx/LqqjoE",
      "include_colab_link": true
    },
    "kernelspec": {
      "name": "python3",
      "display_name": "Python 3"
    }
  },
  "cells": [
    {
      "cell_type": "markdown",
      "metadata": {
        "id": "view-in-github",
        "colab_type": "text"
      },
      "source": [
        "<a href=\"https://colab.research.google.com/github/TheBoringStuffs/COVID19/blob/master/EDA_on_COVID.ipynb\" target=\"_parent\"><img src=\"https://colab.research.google.com/assets/colab-badge.svg\" alt=\"Open In Colab\"/></a>"
      ]
    },
    {
      "cell_type": "code",
      "metadata": {
        "id": "c_EbrpeaiFsc",
        "colab_type": "code",
        "colab": {
          "base_uri": "https://localhost:8080/",
          "height": 71
        },
        "outputId": "777deff2-e011-4ee9-cd11-f41319ca5013"
      },
      "source": [
        "import pandas as pd\n",
        "import numpy as np\n",
        "import matplotlib.pyplot as plt\n",
        "%matplotlib inline\n",
        "import seaborn as sns\n",
        "import plotly.express as px\n",
        "import plotly.graph_objects as go\n",
        "import folium \n",
        "from folium import plugins\n",
        "\n",
        "plt.rcParams['figure.figsize'] = 10, 12"
      ],
      "execution_count": 1,
      "outputs": [
        {
          "output_type": "stream",
          "text": [
            "/usr/local/lib/python3.6/dist-packages/statsmodels/tools/_testing.py:19: FutureWarning: pandas.util.testing is deprecated. Use the functions in the public API at pandas.testing instead.\n",
            "  import pandas.util.testing as tm\n"
          ],
          "name": "stderr"
        }
      ]
    },
    {
      "cell_type": "code",
      "metadata": {
        "id": "KsiXHwzZj1RL",
        "colab_type": "code",
        "outputId": "73185484-e1c0-4279-860d-34a641ebe091",
        "colab": {
          "base_uri": "https://localhost:8080/",
          "height": 153
        }
      },
      "source": [
        "!unzip \"/content/covid19.zip\""
      ],
      "execution_count": 2,
      "outputs": [
        {
          "output_type": "stream",
          "text": [
            "Archive:  /content/covid19.zip\n",
            "  inflating: AgeGroupDetails.csv     \n",
            "  inflating: HospitalBedsIndia.csv   \n",
            "  inflating: ICMRTestingLabs.csv     \n",
            "  inflating: IndividualDetails.csv   \n",
            "  inflating: StatewiseTestingDetails.csv  \n",
            "  inflating: covid_19_india.csv      \n",
            "  inflating: population_india_census2011.csv  \n"
          ],
          "name": "stdout"
        }
      ]
    },
    {
      "cell_type": "markdown",
      "metadata": {
        "id": "DADH8sphkZ31",
        "colab_type": "text"
      },
      "source": [
        "# **Part I**\n",
        "Exploratory Data Anaylsis"
      ]
    },
    {
      "cell_type": "code",
      "metadata": {
        "id": "02dvnjOikIrf",
        "colab_type": "code",
        "outputId": "09aac047-7050-47ef-faaa-3074291fdc1d",
        "colab": {
          "base_uri": "https://localhost:8080/",
          "height": 609
        }
      },
      "source": [
        "df = pd.read_csv(\"/content/covid_19_india.csv\")\n",
        "df"
      ],
      "execution_count": 3,
      "outputs": [
        {
          "output_type": "execute_result",
          "data": {
            "text/html": [
              "<div>\n",
              "<style scoped>\n",
              "    .dataframe tbody tr th:only-of-type {\n",
              "        vertical-align: middle;\n",
              "    }\n",
              "\n",
              "    .dataframe tbody tr th {\n",
              "        vertical-align: top;\n",
              "    }\n",
              "\n",
              "    .dataframe thead th {\n",
              "        text-align: right;\n",
              "    }\n",
              "</style>\n",
              "<table border=\"1\" class=\"dataframe\">\n",
              "  <thead>\n",
              "    <tr style=\"text-align: right;\">\n",
              "      <th></th>\n",
              "      <th>Sno</th>\n",
              "      <th>Date</th>\n",
              "      <th>Time</th>\n",
              "      <th>State/UnionTerritory</th>\n",
              "      <th>ConfirmedIndianNational</th>\n",
              "      <th>ConfirmedForeignNational</th>\n",
              "      <th>Cured</th>\n",
              "      <th>Deaths</th>\n",
              "      <th>Confirmed</th>\n",
              "    </tr>\n",
              "  </thead>\n",
              "  <tbody>\n",
              "    <tr>\n",
              "      <th>0</th>\n",
              "      <td>1</td>\n",
              "      <td>30/01/20</td>\n",
              "      <td>6:00 PM</td>\n",
              "      <td>Kerala</td>\n",
              "      <td>1</td>\n",
              "      <td>0</td>\n",
              "      <td>0</td>\n",
              "      <td>0</td>\n",
              "      <td>1</td>\n",
              "    </tr>\n",
              "    <tr>\n",
              "      <th>1</th>\n",
              "      <td>2</td>\n",
              "      <td>31/01/20</td>\n",
              "      <td>6:00 PM</td>\n",
              "      <td>Kerala</td>\n",
              "      <td>1</td>\n",
              "      <td>0</td>\n",
              "      <td>0</td>\n",
              "      <td>0</td>\n",
              "      <td>1</td>\n",
              "    </tr>\n",
              "    <tr>\n",
              "      <th>2</th>\n",
              "      <td>3</td>\n",
              "      <td>01/02/20</td>\n",
              "      <td>6:00 PM</td>\n",
              "      <td>Kerala</td>\n",
              "      <td>2</td>\n",
              "      <td>0</td>\n",
              "      <td>0</td>\n",
              "      <td>0</td>\n",
              "      <td>2</td>\n",
              "    </tr>\n",
              "    <tr>\n",
              "      <th>3</th>\n",
              "      <td>4</td>\n",
              "      <td>02/02/20</td>\n",
              "      <td>6:00 PM</td>\n",
              "      <td>Kerala</td>\n",
              "      <td>3</td>\n",
              "      <td>0</td>\n",
              "      <td>0</td>\n",
              "      <td>0</td>\n",
              "      <td>3</td>\n",
              "    </tr>\n",
              "    <tr>\n",
              "      <th>4</th>\n",
              "      <td>5</td>\n",
              "      <td>03/02/20</td>\n",
              "      <td>6:00 PM</td>\n",
              "      <td>Kerala</td>\n",
              "      <td>3</td>\n",
              "      <td>0</td>\n",
              "      <td>0</td>\n",
              "      <td>0</td>\n",
              "      <td>3</td>\n",
              "    </tr>\n",
              "    <tr>\n",
              "      <th>...</th>\n",
              "      <td>...</td>\n",
              "      <td>...</td>\n",
              "      <td>...</td>\n",
              "      <td>...</td>\n",
              "      <td>...</td>\n",
              "      <td>...</td>\n",
              "      <td>...</td>\n",
              "      <td>...</td>\n",
              "      <td>...</td>\n",
              "    </tr>\n",
              "    <tr>\n",
              "      <th>2769</th>\n",
              "      <td>2770</td>\n",
              "      <td>07/06/20</td>\n",
              "      <td>8:00 AM</td>\n",
              "      <td>Tripura</td>\n",
              "      <td>-</td>\n",
              "      <td>-</td>\n",
              "      <td>173</td>\n",
              "      <td>0</td>\n",
              "      <td>747</td>\n",
              "    </tr>\n",
              "    <tr>\n",
              "      <th>2770</th>\n",
              "      <td>2771</td>\n",
              "      <td>07/06/20</td>\n",
              "      <td>8:00 AM</td>\n",
              "      <td>Uttarakhand</td>\n",
              "      <td>-</td>\n",
              "      <td>-</td>\n",
              "      <td>423</td>\n",
              "      <td>11</td>\n",
              "      <td>1303</td>\n",
              "    </tr>\n",
              "    <tr>\n",
              "      <th>2771</th>\n",
              "      <td>2772</td>\n",
              "      <td>07/06/20</td>\n",
              "      <td>8:00 AM</td>\n",
              "      <td>Uttar Pradesh</td>\n",
              "      <td>-</td>\n",
              "      <td>-</td>\n",
              "      <td>5648</td>\n",
              "      <td>257</td>\n",
              "      <td>9733</td>\n",
              "    </tr>\n",
              "    <tr>\n",
              "      <th>2772</th>\n",
              "      <td>2773</td>\n",
              "      <td>07/06/20</td>\n",
              "      <td>8:00 AM</td>\n",
              "      <td>West Bengal</td>\n",
              "      <td>-</td>\n",
              "      <td>-</td>\n",
              "      <td>3119</td>\n",
              "      <td>383</td>\n",
              "      <td>7738</td>\n",
              "    </tr>\n",
              "    <tr>\n",
              "      <th>2773</th>\n",
              "      <td>2774</td>\n",
              "      <td>07/06/20</td>\n",
              "      <td>8:00 AM</td>\n",
              "      <td>Cases being reassigned to states</td>\n",
              "      <td>-</td>\n",
              "      <td>-</td>\n",
              "      <td>0</td>\n",
              "      <td>0</td>\n",
              "      <td>8605</td>\n",
              "    </tr>\n",
              "  </tbody>\n",
              "</table>\n",
              "<p>2774 rows × 9 columns</p>\n",
              "</div>"
            ],
            "text/plain": [
              "       Sno      Date     Time  ... Cured Deaths Confirmed\n",
              "0        1  30/01/20  6:00 PM  ...     0      0         1\n",
              "1        2  31/01/20  6:00 PM  ...     0      0         1\n",
              "2        3  01/02/20  6:00 PM  ...     0      0         2\n",
              "3        4  02/02/20  6:00 PM  ...     0      0         3\n",
              "4        5  03/02/20  6:00 PM  ...     0      0         3\n",
              "...    ...       ...      ...  ...   ...    ...       ...\n",
              "2769  2770  07/06/20  8:00 AM  ...   173      0       747\n",
              "2770  2771  07/06/20  8:00 AM  ...   423     11      1303\n",
              "2771  2772  07/06/20  8:00 AM  ...  5648    257      9733\n",
              "2772  2773  07/06/20  8:00 AM  ...  3119    383      7738\n",
              "2773  2774  07/06/20  8:00 AM  ...     0      0      8605\n",
              "\n",
              "[2774 rows x 9 columns]"
            ]
          },
          "metadata": {
            "tags": []
          },
          "execution_count": 3
        }
      ]
    },
    {
      "cell_type": "code",
      "metadata": {
        "id": "0Cmtu85wnzXB",
        "colab_type": "code",
        "outputId": "b178d6b4-f1bb-43fb-9d72-3c682b2d3edb",
        "colab": {
          "base_uri": "https://localhost:8080/",
          "height": 34
        }
      },
      "source": [
        "df.shape"
      ],
      "execution_count": 4,
      "outputs": [
        {
          "output_type": "execute_result",
          "data": {
            "text/plain": [
              "(2774, 9)"
            ]
          },
          "metadata": {
            "tags": []
          },
          "execution_count": 4
        }
      ]
    },
    {
      "cell_type": "code",
      "metadata": {
        "id": "PY-_h0OZk9JQ",
        "colab_type": "code",
        "outputId": "174b0e13-ac1b-44d0-c305-fd6a8885d863",
        "colab": {
          "base_uri": "https://localhost:8080/",
          "height": 85
        }
      },
      "source": [
        "df.columns"
      ],
      "execution_count": 5,
      "outputs": [
        {
          "output_type": "execute_result",
          "data": {
            "text/plain": [
              "Index(['Sno', 'Date', 'Time', 'State/UnionTerritory',\n",
              "       'ConfirmedIndianNational', 'ConfirmedForeignNational', 'Cured',\n",
              "       'Deaths', 'Confirmed'],\n",
              "      dtype='object')"
            ]
          },
          "metadata": {
            "tags": []
          },
          "execution_count": 5
        }
      ]
    },
    {
      "cell_type": "code",
      "metadata": {
        "id": "S3tip6NMk52K",
        "colab_type": "code",
        "outputId": "b7e8db83-3a9c-4e3c-904a-0012534c065d",
        "colab": {
          "base_uri": "https://localhost:8080/",
          "height": 289
        }
      },
      "source": [
        "df.info()"
      ],
      "execution_count": 6,
      "outputs": [
        {
          "output_type": "stream",
          "text": [
            "<class 'pandas.core.frame.DataFrame'>\n",
            "RangeIndex: 2774 entries, 0 to 2773\n",
            "Data columns (total 9 columns):\n",
            " #   Column                    Non-Null Count  Dtype \n",
            "---  ------                    --------------  ----- \n",
            " 0   Sno                       2774 non-null   int64 \n",
            " 1   Date                      2774 non-null   object\n",
            " 2   Time                      2774 non-null   object\n",
            " 3   State/UnionTerritory      2774 non-null   object\n",
            " 4   ConfirmedIndianNational   2774 non-null   object\n",
            " 5   ConfirmedForeignNational  2774 non-null   object\n",
            " 6   Cured                     2774 non-null   int64 \n",
            " 7   Deaths                    2774 non-null   int64 \n",
            " 8   Confirmed                 2774 non-null   int64 \n",
            "dtypes: int64(4), object(5)\n",
            "memory usage: 195.2+ KB\n"
          ],
          "name": "stdout"
        }
      ]
    },
    {
      "cell_type": "code",
      "metadata": {
        "id": "Q-51XyAxoEzI",
        "colab_type": "code",
        "outputId": "00182652-e0fc-4f2b-dcfc-972624362e7c",
        "colab": {
          "base_uri": "https://localhost:8080/",
          "height": 289
        }
      },
      "source": [
        "df['Date'] = pd.to_datetime(df['Date'])\n",
        "df.head()"
      ],
      "execution_count": 7,
      "outputs": [
        {
          "output_type": "execute_result",
          "data": {
            "text/html": [
              "<div>\n",
              "<style scoped>\n",
              "    .dataframe tbody tr th:only-of-type {\n",
              "        vertical-align: middle;\n",
              "    }\n",
              "\n",
              "    .dataframe tbody tr th {\n",
              "        vertical-align: top;\n",
              "    }\n",
              "\n",
              "    .dataframe thead th {\n",
              "        text-align: right;\n",
              "    }\n",
              "</style>\n",
              "<table border=\"1\" class=\"dataframe\">\n",
              "  <thead>\n",
              "    <tr style=\"text-align: right;\">\n",
              "      <th></th>\n",
              "      <th>Sno</th>\n",
              "      <th>Date</th>\n",
              "      <th>Time</th>\n",
              "      <th>State/UnionTerritory</th>\n",
              "      <th>ConfirmedIndianNational</th>\n",
              "      <th>ConfirmedForeignNational</th>\n",
              "      <th>Cured</th>\n",
              "      <th>Deaths</th>\n",
              "      <th>Confirmed</th>\n",
              "    </tr>\n",
              "  </thead>\n",
              "  <tbody>\n",
              "    <tr>\n",
              "      <th>0</th>\n",
              "      <td>1</td>\n",
              "      <td>2020-01-30</td>\n",
              "      <td>6:00 PM</td>\n",
              "      <td>Kerala</td>\n",
              "      <td>1</td>\n",
              "      <td>0</td>\n",
              "      <td>0</td>\n",
              "      <td>0</td>\n",
              "      <td>1</td>\n",
              "    </tr>\n",
              "    <tr>\n",
              "      <th>1</th>\n",
              "      <td>2</td>\n",
              "      <td>2020-01-31</td>\n",
              "      <td>6:00 PM</td>\n",
              "      <td>Kerala</td>\n",
              "      <td>1</td>\n",
              "      <td>0</td>\n",
              "      <td>0</td>\n",
              "      <td>0</td>\n",
              "      <td>1</td>\n",
              "    </tr>\n",
              "    <tr>\n",
              "      <th>2</th>\n",
              "      <td>3</td>\n",
              "      <td>2020-01-02</td>\n",
              "      <td>6:00 PM</td>\n",
              "      <td>Kerala</td>\n",
              "      <td>2</td>\n",
              "      <td>0</td>\n",
              "      <td>0</td>\n",
              "      <td>0</td>\n",
              "      <td>2</td>\n",
              "    </tr>\n",
              "    <tr>\n",
              "      <th>3</th>\n",
              "      <td>4</td>\n",
              "      <td>2020-02-02</td>\n",
              "      <td>6:00 PM</td>\n",
              "      <td>Kerala</td>\n",
              "      <td>3</td>\n",
              "      <td>0</td>\n",
              "      <td>0</td>\n",
              "      <td>0</td>\n",
              "      <td>3</td>\n",
              "    </tr>\n",
              "    <tr>\n",
              "      <th>4</th>\n",
              "      <td>5</td>\n",
              "      <td>2020-03-02</td>\n",
              "      <td>6:00 PM</td>\n",
              "      <td>Kerala</td>\n",
              "      <td>3</td>\n",
              "      <td>0</td>\n",
              "      <td>0</td>\n",
              "      <td>0</td>\n",
              "      <td>3</td>\n",
              "    </tr>\n",
              "  </tbody>\n",
              "</table>\n",
              "</div>"
            ],
            "text/plain": [
              "   Sno       Date     Time  ... Cured Deaths Confirmed\n",
              "0    1 2020-01-30  6:00 PM  ...     0      0         1\n",
              "1    2 2020-01-31  6:00 PM  ...     0      0         1\n",
              "2    3 2020-01-02  6:00 PM  ...     0      0         2\n",
              "3    4 2020-02-02  6:00 PM  ...     0      0         3\n",
              "4    5 2020-03-02  6:00 PM  ...     0      0         3\n",
              "\n",
              "[5 rows x 9 columns]"
            ]
          },
          "metadata": {
            "tags": []
          },
          "execution_count": 7
        }
      ]
    },
    {
      "cell_type": "code",
      "metadata": {
        "id": "_UuzaR8Yk6sZ",
        "colab_type": "code",
        "outputId": "400bd4a2-c24f-4e9e-bb76-0e9fd0f6fc6f",
        "colab": {
          "base_uri": "https://localhost:8080/",
          "height": 289
        }
      },
      "source": [
        "df.info()"
      ],
      "execution_count": 8,
      "outputs": [
        {
          "output_type": "stream",
          "text": [
            "<class 'pandas.core.frame.DataFrame'>\n",
            "RangeIndex: 2774 entries, 0 to 2773\n",
            "Data columns (total 9 columns):\n",
            " #   Column                    Non-Null Count  Dtype         \n",
            "---  ------                    --------------  -----         \n",
            " 0   Sno                       2774 non-null   int64         \n",
            " 1   Date                      2774 non-null   datetime64[ns]\n",
            " 2   Time                      2774 non-null   object        \n",
            " 3   State/UnionTerritory      2774 non-null   object        \n",
            " 4   ConfirmedIndianNational   2774 non-null   object        \n",
            " 5   ConfirmedForeignNational  2774 non-null   object        \n",
            " 6   Cured                     2774 non-null   int64         \n",
            " 7   Deaths                    2774 non-null   int64         \n",
            " 8   Confirmed                 2774 non-null   int64         \n",
            "dtypes: datetime64[ns](1), int64(4), object(4)\n",
            "memory usage: 195.2+ KB\n"
          ],
          "name": "stdout"
        }
      ]
    },
    {
      "cell_type": "code",
      "metadata": {
        "id": "vad1RCoBowuS",
        "colab_type": "code",
        "outputId": "1f9b1041-6d30-42f5-bc53-357f94ac178e",
        "colab": {
          "base_uri": "https://localhost:8080/",
          "height": 187
        }
      },
      "source": [
        "df.isnull().sum()"
      ],
      "execution_count": 9,
      "outputs": [
        {
          "output_type": "execute_result",
          "data": {
            "text/plain": [
              "Sno                         0\n",
              "Date                        0\n",
              "Time                        0\n",
              "State/UnionTerritory        0\n",
              "ConfirmedIndianNational     0\n",
              "ConfirmedForeignNational    0\n",
              "Cured                       0\n",
              "Deaths                      0\n",
              "Confirmed                   0\n",
              "dtype: int64"
            ]
          },
          "metadata": {
            "tags": []
          },
          "execution_count": 9
        }
      ]
    },
    {
      "cell_type": "code",
      "metadata": {
        "id": "Skj65b2cqSCo",
        "colab_type": "code",
        "outputId": "e4782a8b-ad82-49e0-e5fc-13eadbc74072",
        "colab": {
          "base_uri": "https://localhost:8080/",
          "height": 309
        }
      },
      "source": [
        "from sklearn.preprocessing import LabelEncoder\n",
        "le=LabelEncoder()\n",
        "df['StateID'] = le.fit_transform(df['State/UnionTerritory'])\n",
        "df.head()"
      ],
      "execution_count": 10,
      "outputs": [
        {
          "output_type": "execute_result",
          "data": {
            "text/html": [
              "<div>\n",
              "<style scoped>\n",
              "    .dataframe tbody tr th:only-of-type {\n",
              "        vertical-align: middle;\n",
              "    }\n",
              "\n",
              "    .dataframe tbody tr th {\n",
              "        vertical-align: top;\n",
              "    }\n",
              "\n",
              "    .dataframe thead th {\n",
              "        text-align: right;\n",
              "    }\n",
              "</style>\n",
              "<table border=\"1\" class=\"dataframe\">\n",
              "  <thead>\n",
              "    <tr style=\"text-align: right;\">\n",
              "      <th></th>\n",
              "      <th>Sno</th>\n",
              "      <th>Date</th>\n",
              "      <th>Time</th>\n",
              "      <th>State/UnionTerritory</th>\n",
              "      <th>ConfirmedIndianNational</th>\n",
              "      <th>ConfirmedForeignNational</th>\n",
              "      <th>Cured</th>\n",
              "      <th>Deaths</th>\n",
              "      <th>Confirmed</th>\n",
              "      <th>StateID</th>\n",
              "    </tr>\n",
              "  </thead>\n",
              "  <tbody>\n",
              "    <tr>\n",
              "      <th>0</th>\n",
              "      <td>1</td>\n",
              "      <td>2020-01-30</td>\n",
              "      <td>6:00 PM</td>\n",
              "      <td>Kerala</td>\n",
              "      <td>1</td>\n",
              "      <td>0</td>\n",
              "      <td>0</td>\n",
              "      <td>0</td>\n",
              "      <td>1</td>\n",
              "      <td>17</td>\n",
              "    </tr>\n",
              "    <tr>\n",
              "      <th>1</th>\n",
              "      <td>2</td>\n",
              "      <td>2020-01-31</td>\n",
              "      <td>6:00 PM</td>\n",
              "      <td>Kerala</td>\n",
              "      <td>1</td>\n",
              "      <td>0</td>\n",
              "      <td>0</td>\n",
              "      <td>0</td>\n",
              "      <td>1</td>\n",
              "      <td>17</td>\n",
              "    </tr>\n",
              "    <tr>\n",
              "      <th>2</th>\n",
              "      <td>3</td>\n",
              "      <td>2020-01-02</td>\n",
              "      <td>6:00 PM</td>\n",
              "      <td>Kerala</td>\n",
              "      <td>2</td>\n",
              "      <td>0</td>\n",
              "      <td>0</td>\n",
              "      <td>0</td>\n",
              "      <td>2</td>\n",
              "      <td>17</td>\n",
              "    </tr>\n",
              "    <tr>\n",
              "      <th>3</th>\n",
              "      <td>4</td>\n",
              "      <td>2020-02-02</td>\n",
              "      <td>6:00 PM</td>\n",
              "      <td>Kerala</td>\n",
              "      <td>3</td>\n",
              "      <td>0</td>\n",
              "      <td>0</td>\n",
              "      <td>0</td>\n",
              "      <td>3</td>\n",
              "      <td>17</td>\n",
              "    </tr>\n",
              "    <tr>\n",
              "      <th>4</th>\n",
              "      <td>5</td>\n",
              "      <td>2020-03-02</td>\n",
              "      <td>6:00 PM</td>\n",
              "      <td>Kerala</td>\n",
              "      <td>3</td>\n",
              "      <td>0</td>\n",
              "      <td>0</td>\n",
              "      <td>0</td>\n",
              "      <td>3</td>\n",
              "      <td>17</td>\n",
              "    </tr>\n",
              "  </tbody>\n",
              "</table>\n",
              "</div>"
            ],
            "text/plain": [
              "   Sno       Date     Time  ... Deaths Confirmed StateID\n",
              "0    1 2020-01-30  6:00 PM  ...      0         1      17\n",
              "1    2 2020-01-31  6:00 PM  ...      0         1      17\n",
              "2    3 2020-01-02  6:00 PM  ...      0         2      17\n",
              "3    4 2020-02-02  6:00 PM  ...      0         3      17\n",
              "4    5 2020-03-02  6:00 PM  ...      0         3      17\n",
              "\n",
              "[5 rows x 10 columns]"
            ]
          },
          "metadata": {
            "tags": []
          },
          "execution_count": 10
        }
      ]
    },
    {
      "cell_type": "code",
      "metadata": {
        "id": "lZsSBJvUqobR",
        "colab_type": "code",
        "outputId": "8839dbff-1d61-4b6a-bd6b-8c4154c82f6b",
        "colab": {
          "base_uri": "https://localhost:8080/",
          "height": 286
        }
      },
      "source": [
        "corr= df.corr()\n",
        "sns.heatmap(corr,annot=True)"
      ],
      "execution_count": 11,
      "outputs": [
        {
          "output_type": "execute_result",
          "data": {
            "text/plain": [
              "<matplotlib.axes._subplots.AxesSubplot at 0x7f2d701f2fd0>"
            ]
          },
          "metadata": {
            "tags": []
          },
          "execution_count": 11
        },
        {
          "output_type": "display_data",
          "data": {
            "image/png": "[encoded data removed]",
            "text/plain": [
              "<Figure size 432x288 with 2 Axes>"
            ]
          },
          "metadata": {
            "tags": [],
            "needs_background": "light"
          }
        }
      ]
    },
    {
      "cell_type": "markdown",
      "metadata": {
        "id": "x7NLiQxIrGy-",
        "colab_type": "text"
      },
      "source": [
        "# Obeservation\n",
        "There is no strong corelation between any of the variable except for Confirmed and Deaths, Confirmed and Cured."
      ]
    },
    {
      "cell_type": "code",
      "metadata": {
        "id": "sEeOsGOUrfa6",
        "colab_type": "code",
        "outputId": "af334d0d-0ae9-44cc-f2cb-eeed34093c46",
        "colab": {
          "base_uri": "https://localhost:8080/",
          "height": 187
        }
      },
      "source": [
        "print(df['State/UnionTerritory'].unique())\n",
        "print(\"\\nNumber of States impacted by COVID 2019:\",len(df['State/UnionTerritory'].unique()))"
      ],
      "execution_count": 12,
      "outputs": [
        {
          "output_type": "stream",
          "text": [
            "['Kerala' 'Telengana' 'Delhi' 'Rajasthan' 'Uttar Pradesh' 'Haryana'\n",
            " 'Ladakh' 'Tamil Nadu' 'Karnataka' 'Maharashtra' 'Punjab'\n",
            " 'Jammu and Kashmir' 'Andhra Pradesh' 'Uttarakhand' 'Odisha' 'Puducherry'\n",
            " 'West Bengal' 'Chhattisgarh' 'Chandigarh' 'Gujarat' 'Himachal Pradesh'\n",
            " 'Madhya Pradesh' 'Bihar' 'Manipur' 'Mizoram'\n",
            " 'Andaman and Nicobar Islands' 'Goa' 'Unassigned' 'Assam' 'Jharkhand'\n",
            " 'Arunachal Pradesh' 'Tripura' 'Nagaland' 'Meghalaya' 'Dadar Nagar Haveli'\n",
            " 'Cases being reassigned to states' 'Sikkim']\n",
            "\n",
            "Number of States impacted by COVID 2019: 37\n"
          ],
          "name": "stdout"
        }
      ]
    },
    {
      "cell_type": "code",
      "metadata": {
        "id": "TxPCzz2Br2zp",
        "colab_type": "code",
        "outputId": "d51dcb49-e842-44ac-b7e1-52b9aab6622d",
        "colab": {
          "base_uri": "https://localhost:8080/",
          "height": 204
        }
      },
      "source": [
        "group_cases=df[['Confirmed','Cured','Deaths','State/UnionTerritory']].groupby('State/UnionTerritory').sum().sort_values('Confirmed',ascending=False).head()\n",
        "group_cases=group_cases.reset_index()\n",
        "group_cases"
      ],
      "execution_count": 13,
      "outputs": [
        {
          "output_type": "execute_result",
          "data": {
            "text/html": [
              "<div>\n",
              "<style scoped>\n",
              "    .dataframe tbody tr th:only-of-type {\n",
              "        vertical-align: middle;\n",
              "    }\n",
              "\n",
              "    .dataframe tbody tr th {\n",
              "        vertical-align: top;\n",
              "    }\n",
              "\n",
              "    .dataframe thead th {\n",
              "        text-align: right;\n",
              "    }\n",
              "</style>\n",
              "<table border=\"1\" class=\"dataframe\">\n",
              "  <thead>\n",
              "    <tr style=\"text-align: right;\">\n",
              "      <th></th>\n",
              "      <th>State/UnionTerritory</th>\n",
              "      <th>Confirmed</th>\n",
              "      <th>Cured</th>\n",
              "      <th>Deaths</th>\n",
              "    </tr>\n",
              "  </thead>\n",
              "  <tbody>\n",
              "    <tr>\n",
              "      <th>0</th>\n",
              "      <td>Maharashtra</td>\n",
              "      <td>1648721</td>\n",
              "      <td>522234</td>\n",
              "      <td>59523</td>\n",
              "    </tr>\n",
              "    <tr>\n",
              "      <th>1</th>\n",
              "      <td>Tamil Nadu</td>\n",
              "      <td>545754</td>\n",
              "      <td>253399</td>\n",
              "      <td>4199</td>\n",
              "    </tr>\n",
              "    <tr>\n",
              "      <th>2</th>\n",
              "      <td>Delhi</td>\n",
              "      <td>507456</td>\n",
              "      <td>199221</td>\n",
              "      <td>10114</td>\n",
              "    </tr>\n",
              "    <tr>\n",
              "      <th>3</th>\n",
              "      <td>Gujarat</td>\n",
              "      <td>487889</td>\n",
              "      <td>215508</td>\n",
              "      <td>28858</td>\n",
              "    </tr>\n",
              "    <tr>\n",
              "      <th>4</th>\n",
              "      <td>Rajasthan</td>\n",
              "      <td>259277</td>\n",
              "      <td>140846</td>\n",
              "      <td>5801</td>\n",
              "    </tr>\n",
              "  </tbody>\n",
              "</table>\n",
              "</div>"
            ],
            "text/plain": [
              "  State/UnionTerritory  Confirmed   Cured  Deaths\n",
              "0          Maharashtra    1648721  522234   59523\n",
              "1           Tamil Nadu     545754  253399    4199\n",
              "2                Delhi     507456  199221   10114\n",
              "3              Gujarat     487889  215508   28858\n",
              "4            Rajasthan     259277  140846    5801"
            ]
          },
          "metadata": {
            "tags": []
          },
          "execution_count": 13
        }
      ]
    },
    {
      "cell_type": "code",
      "metadata": {
        "id": "cAgAs0fIsozn",
        "colab_type": "code",
        "colab": {
          "base_uri": "https://localhost:8080/",
          "height": 145
        },
        "outputId": "831ee9d4-1fec-40d5-db03-6e423fa48498"
      },
      "source": [
        "group_cases['Recovery Rate']=round(group_cases['Cured'] / group_cases['Confirmed'],2)\n",
        "group_cases['Death Rate']=round(group_cases['Deaths'] / group_cases['Confirmed'],2)\n",
        "group_cases=group_cases.sort_values(by='Confirmed', ascending= False)\n",
        "group_cases.style.background_gradient(cmap='Greens')"
      ],
      "execution_count": 15,
      "outputs": [
        {
          "output_type": "execute_result",
          "data": {
            "text/html": [
              "<style  type=\"text/css\" >\n",
              "    #T_eadb1dca_aa65_11ea_8db7_0242ac1c0002row0_col1 {\n",
              "            background-color:  #00441b;\n",
              "            color:  #f1f1f1;\n",
              "        }    #T_eadb1dca_aa65_11ea_8db7_0242ac1c0002row0_col2 {\n",
              "            background-color:  #00441b;\n",
              "            color:  #f1f1f1;\n",
              "        }    #T_eadb1dca_aa65_11ea_8db7_0242ac1c0002row0_col3 {\n",
              "            background-color:  #00441b;\n",
              "            color:  #f1f1f1;\n",
              "        }    #T_eadb1dca_aa65_11ea_8db7_0242ac1c0002row0_col4 {\n",
              "            background-color:  #f7fcf5;\n",
              "            color:  #000000;\n",
              "        }    #T_eadb1dca_aa65_11ea_8db7_0242ac1c0002row0_col5 {\n",
              "            background-color:  #4bb062;\n",
              "            color:  #000000;\n",
              "        }    #T_eadb1dca_aa65_11ea_8db7_0242ac1c0002row1_col1 {\n",
              "            background-color:  #d2edcc;\n",
              "            color:  #000000;\n",
              "        }    #T_eadb1dca_aa65_11ea_8db7_0242ac1c0002row1_col2 {\n",
              "            background-color:  #bae3b3;\n",
              "            color:  #000000;\n",
              "        }    #T_eadb1dca_aa65_11ea_8db7_0242ac1c0002row1_col3 {\n",
              "            background-color:  #f7fcf5;\n",
              "            color:  #000000;\n",
              "        }    #T_eadb1dca_aa65_11ea_8db7_0242ac1c0002row1_col4 {\n",
              "            background-color:  #3fa85b;\n",
              "            color:  #000000;\n",
              "        }    #T_eadb1dca_aa65_11ea_8db7_0242ac1c0002row1_col5 {\n",
              "            background-color:  #f7fcf5;\n",
              "            color:  #000000;\n",
              "        }    #T_eadb1dca_aa65_11ea_8db7_0242ac1c0002row2_col1 {\n",
              "            background-color:  #d9f0d3;\n",
              "            color:  #000000;\n",
              "        }    #T_eadb1dca_aa65_11ea_8db7_0242ac1c0002row2_col2 {\n",
              "            background-color:  #def2d9;\n",
              "            color:  #000000;\n",
              "        }    #T_eadb1dca_aa65_11ea_8db7_0242ac1c0002row2_col3 {\n",
              "            background-color:  #e8f6e3;\n",
              "            color:  #000000;\n",
              "        }    #T_eadb1dca_aa65_11ea_8db7_0242ac1c0002row2_col4 {\n",
              "            background-color:  #b2e0ac;\n",
              "            color:  #000000;\n",
              "        }    #T_eadb1dca_aa65_11ea_8db7_0242ac1c0002row2_col5 {\n",
              "            background-color:  #d3eecd;\n",
              "            color:  #000000;\n",
              "        }    #T_eadb1dca_aa65_11ea_8db7_0242ac1c0002row3_col1 {\n",
              "            background-color:  #dbf1d6;\n",
              "            color:  #000000;\n",
              "        }    #T_eadb1dca_aa65_11ea_8db7_0242ac1c0002row3_col2 {\n",
              "            background-color:  #d4eece;\n",
              "            color:  #000000;\n",
              "        }    #T_eadb1dca_aa65_11ea_8db7_0242ac1c0002row3_col3 {\n",
              "            background-color:  #87cd86;\n",
              "            color:  #000000;\n",
              "        }    #T_eadb1dca_aa65_11ea_8db7_0242ac1c0002row3_col4 {\n",
              "            background-color:  #62bb6d;\n",
              "            color:  #000000;\n",
              "        }    #T_eadb1dca_aa65_11ea_8db7_0242ac1c0002row3_col5 {\n",
              "            background-color:  #00441b;\n",
              "            color:  #f1f1f1;\n",
              "        }    #T_eadb1dca_aa65_11ea_8db7_0242ac1c0002row4_col1 {\n",
              "            background-color:  #f7fcf5;\n",
              "            color:  #000000;\n",
              "        }    #T_eadb1dca_aa65_11ea_8db7_0242ac1c0002row4_col2 {\n",
              "            background-color:  #f7fcf5;\n",
              "            color:  #000000;\n",
              "        }    #T_eadb1dca_aa65_11ea_8db7_0242ac1c0002row4_col3 {\n",
              "            background-color:  #f3faf0;\n",
              "            color:  #000000;\n",
              "        }    #T_eadb1dca_aa65_11ea_8db7_0242ac1c0002row4_col4 {\n",
              "            background-color:  #00441b;\n",
              "            color:  #f1f1f1;\n",
              "        }    #T_eadb1dca_aa65_11ea_8db7_0242ac1c0002row4_col5 {\n",
              "            background-color:  #d3eecd;\n",
              "            color:  #000000;\n",
              "        }</style><table id=\"T_eadb1dca_aa65_11ea_8db7_0242ac1c0002\" ><thead>    <tr>        <th class=\"blank level0\" ></th>        <th class=\"col_heading level0 col0\" >State/UnionTerritory</th>        <th class=\"col_heading level0 col1\" >Confirmed</th>        <th class=\"col_heading level0 col2\" >Cured</th>        <th class=\"col_heading level0 col3\" >Deaths</th>        <th class=\"col_heading level0 col4\" >Recovery Rate</th>        <th class=\"col_heading level0 col5\" >Death Rate</th>    </tr></thead><tbody>\n",
              "                <tr>\n",
              "                        <th id=\"T_eadb1dca_aa65_11ea_8db7_0242ac1c0002level0_row0\" class=\"row_heading level0 row0\" >0</th>\n",
              "                        <td id=\"T_eadb1dca_aa65_11ea_8db7_0242ac1c0002row0_col0\" class=\"data row0 col0\" >Maharashtra</td>\n",
              "                        <td id=\"T_eadb1dca_aa65_11ea_8db7_0242ac1c0002row0_col1\" class=\"data row0 col1\" >1648721</td>\n",
              "                        <td id=\"T_eadb1dca_aa65_11ea_8db7_0242ac1c0002row0_col2\" class=\"data row0 col2\" >522234</td>\n",
              "                        <td id=\"T_eadb1dca_aa65_11ea_8db7_0242ac1c0002row0_col3\" class=\"data row0 col3\" >59523</td>\n",
              "                        <td id=\"T_eadb1dca_aa65_11ea_8db7_0242ac1c0002row0_col4\" class=\"data row0 col4\" >0.320000</td>\n",
              "                        <td id=\"T_eadb1dca_aa65_11ea_8db7_0242ac1c0002row0_col5\" class=\"data row0 col5\" >0.040000</td>\n",
              "            </tr>\n",
              "            <tr>\n",
              "                        <th id=\"T_eadb1dca_aa65_11ea_8db7_0242ac1c0002level0_row1\" class=\"row_heading level0 row1\" >1</th>\n",
              "                        <td id=\"T_eadb1dca_aa65_11ea_8db7_0242ac1c0002row1_col0\" class=\"data row1 col0\" >Tamil Nadu</td>\n",
              "                        <td id=\"T_eadb1dca_aa65_11ea_8db7_0242ac1c0002row1_col1\" class=\"data row1 col1\" >545754</td>\n",
              "                        <td id=\"T_eadb1dca_aa65_11ea_8db7_0242ac1c0002row1_col2\" class=\"data row1 col2\" >253399</td>\n",
              "                        <td id=\"T_eadb1dca_aa65_11ea_8db7_0242ac1c0002row1_col3\" class=\"data row1 col3\" >4199</td>\n",
              "                        <td id=\"T_eadb1dca_aa65_11ea_8db7_0242ac1c0002row1_col4\" class=\"data row1 col4\" >0.460000</td>\n",
              "                        <td id=\"T_eadb1dca_aa65_11ea_8db7_0242ac1c0002row1_col5\" class=\"data row1 col5\" >0.010000</td>\n",
              "            </tr>\n",
              "            <tr>\n",
              "                        <th id=\"T_eadb1dca_aa65_11ea_8db7_0242ac1c0002level0_row2\" class=\"row_heading level0 row2\" >2</th>\n",
              "                        <td id=\"T_eadb1dca_aa65_11ea_8db7_0242ac1c0002row2_col0\" class=\"data row2 col0\" >Delhi</td>\n",
              "                        <td id=\"T_eadb1dca_aa65_11ea_8db7_0242ac1c0002row2_col1\" class=\"data row2 col1\" >507456</td>\n",
              "                        <td id=\"T_eadb1dca_aa65_11ea_8db7_0242ac1c0002row2_col2\" class=\"data row2 col2\" >199221</td>\n",
              "                        <td id=\"T_eadb1dca_aa65_11ea_8db7_0242ac1c0002row2_col3\" class=\"data row2 col3\" >10114</td>\n",
              "                        <td id=\"T_eadb1dca_aa65_11ea_8db7_0242ac1c0002row2_col4\" class=\"data row2 col4\" >0.390000</td>\n",
              "                        <td id=\"T_eadb1dca_aa65_11ea_8db7_0242ac1c0002row2_col5\" class=\"data row2 col5\" >0.020000</td>\n",
              "            </tr>\n",
              "            <tr>\n",
              "                        <th id=\"T_eadb1dca_aa65_11ea_8db7_0242ac1c0002level0_row3\" class=\"row_heading level0 row3\" >3</th>\n",
              "                        <td id=\"T_eadb1dca_aa65_11ea_8db7_0242ac1c0002row3_col0\" class=\"data row3 col0\" >Gujarat</td>\n",
              "                        <td id=\"T_eadb1dca_aa65_11ea_8db7_0242ac1c0002row3_col1\" class=\"data row3 col1\" >487889</td>\n",
              "                        <td id=\"T_eadb1dca_aa65_11ea_8db7_0242ac1c0002row3_col2\" class=\"data row3 col2\" >215508</td>\n",
              "                        <td id=\"T_eadb1dca_aa65_11ea_8db7_0242ac1c0002row3_col3\" class=\"data row3 col3\" >28858</td>\n",
              "                        <td id=\"T_eadb1dca_aa65_11ea_8db7_0242ac1c0002row3_col4\" class=\"data row3 col4\" >0.440000</td>\n",
              "                        <td id=\"T_eadb1dca_aa65_11ea_8db7_0242ac1c0002row3_col5\" class=\"data row3 col5\" >0.060000</td>\n",
              "            </tr>\n",
              "            <tr>\n",
              "                        <th id=\"T_eadb1dca_aa65_11ea_8db7_0242ac1c0002level0_row4\" class=\"row_heading level0 row4\" >4</th>\n",
              "                        <td id=\"T_eadb1dca_aa65_11ea_8db7_0242ac1c0002row4_col0\" class=\"data row4 col0\" >Rajasthan</td>\n",
              "                        <td id=\"T_eadb1dca_aa65_11ea_8db7_0242ac1c0002row4_col1\" class=\"data row4 col1\" >259277</td>\n",
              "                        <td id=\"T_eadb1dca_aa65_11ea_8db7_0242ac1c0002row4_col2\" class=\"data row4 col2\" >140846</td>\n",
              "                        <td id=\"T_eadb1dca_aa65_11ea_8db7_0242ac1c0002row4_col3\" class=\"data row4 col3\" >5801</td>\n",
              "                        <td id=\"T_eadb1dca_aa65_11ea_8db7_0242ac1c0002row4_col4\" class=\"data row4 col4\" >0.540000</td>\n",
              "                        <td id=\"T_eadb1dca_aa65_11ea_8db7_0242ac1c0002row4_col5\" class=\"data row4 col5\" >0.020000</td>\n",
              "            </tr>\n",
              "    </tbody></table>"
            ],
            "text/plain": [
              "<pandas.io.formats.style.Styler at 0x7f2d6c1c5d30>"
            ]
          },
          "metadata": {
            "tags": []
          },
          "execution_count": 15
        }
      ]
    },
    {
      "cell_type": "markdown",
      "metadata": {
        "id": "sTHP_x7Fs0Fn",
        "colab_type": "text"
      },
      "source": [
        "Rajasthan leads in the recovery rate in the top 5 countries to COVID cases till now (while creation of this notebook). Tamil Nadu has cases increasing and its recovery rate is also increasing."
      ]
    },
    {
      "cell_type": "code",
      "metadata": {
        "id": "qrQbx-WSlmd0",
        "colab_type": "code",
        "outputId": "f7daa848-ccfd-4fd8-b0cd-9dd55d6105d6",
        "colab": {
          "base_uri": "https://localhost:8080/",
          "height": 855
        }
      },
      "source": [
        "#Total active cases\n",
        "df['Total Active'] = df['Confirmed'] - (df['Deaths'] + df['Cured'])\n",
        "total_active = df['Total Active'].sum()\n",
        "print('Total number of active COVID 2019 cases across India:', total_active)\n",
        "tot_Cases = df.groupby('State/UnionTerritory')['Total Active'].sum().sort_values(ascending=False).to_frame()\n",
        "tot_Cases.style.background_gradient(cmap='Reds')"
      ],
      "execution_count": 0,
      "outputs": [
        {
          "output_type": "stream",
          "text": [
            "Total number of active COVID 2019 cases across India: 2803998\n"
          ],
          "name": "stdout"
        },
        {
          "output_type": "execute_result",
          "data": {
            "text/html": [
              "<style  type=\"text/css\" >\n",
              "    #T_da51cac8_aa13_11ea_8a84_0242ac1c0002row0_col0 {\n",
              "            background-color:  #67000d;\n",
              "            color:  #f1f1f1;\n",
              "        }    #T_da51cac8_aa13_11ea_8a84_0242ac1c0002row1_col0 {\n",
              "            background-color:  #fcb296;\n",
              "            color:  #000000;\n",
              "        }    #T_da51cac8_aa13_11ea_8a84_0242ac1c0002row2_col0 {\n",
              "            background-color:  #fcb499;\n",
              "            color:  #000000;\n",
              "        }    #T_da51cac8_aa13_11ea_8a84_0242ac1c0002row3_col0 {\n",
              "            background-color:  #fcc2aa;\n",
              "            color:  #000000;\n",
              "        }    #T_da51cac8_aa13_11ea_8a84_0242ac1c0002row4_col0 {\n",
              "            background-color:  #fee3d6;\n",
              "            color:  #000000;\n",
              "        }    #T_da51cac8_aa13_11ea_8a84_0242ac1c0002row5_col0 {\n",
              "            background-color:  #fee3d7;\n",
              "            color:  #000000;\n",
              "        }    #T_da51cac8_aa13_11ea_8a84_0242ac1c0002row6_col0 {\n",
              "            background-color:  #fee4d8;\n",
              "            color:  #000000;\n",
              "        }    #T_da51cac8_aa13_11ea_8a84_0242ac1c0002row7_col0 {\n",
              "            background-color:  #fee7dc;\n",
              "            color:  #000000;\n",
              "        }    #T_da51cac8_aa13_11ea_8a84_0242ac1c0002row8_col0 {\n",
              "            background-color:  #fee8de;\n",
              "            color:  #000000;\n",
              "        }    #T_da51cac8_aa13_11ea_8a84_0242ac1c0002row9_col0 {\n",
              "            background-color:  #ffece4;\n",
              "            color:  #000000;\n",
              "        }    #T_da51cac8_aa13_11ea_8a84_0242ac1c0002row10_col0 {\n",
              "            background-color:  #ffeee6;\n",
              "            color:  #000000;\n",
              "        }    #T_da51cac8_aa13_11ea_8a84_0242ac1c0002row11_col0 {\n",
              "            background-color:  #ffeee6;\n",
              "            color:  #000000;\n",
              "        }    #T_da51cac8_aa13_11ea_8a84_0242ac1c0002row12_col0 {\n",
              "            background-color:  #ffeee7;\n",
              "            color:  #000000;\n",
              "        }    #T_da51cac8_aa13_11ea_8a84_0242ac1c0002row13_col0 {\n",
              "            background-color:  #ffefe8;\n",
              "            color:  #000000;\n",
              "        }    #T_da51cac8_aa13_11ea_8a84_0242ac1c0002row14_col0 {\n",
              "            background-color:  #fff0e9;\n",
              "            color:  #000000;\n",
              "        }    #T_da51cac8_aa13_11ea_8a84_0242ac1c0002row15_col0 {\n",
              "            background-color:  #fff1ea;\n",
              "            color:  #000000;\n",
              "        }    #T_da51cac8_aa13_11ea_8a84_0242ac1c0002row16_col0 {\n",
              "            background-color:  #fff2eb;\n",
              "            color:  #000000;\n",
              "        }    #T_da51cac8_aa13_11ea_8a84_0242ac1c0002row17_col0 {\n",
              "            background-color:  #fff2ec;\n",
              "            color:  #000000;\n",
              "        }    #T_da51cac8_aa13_11ea_8a84_0242ac1c0002row18_col0 {\n",
              "            background-color:  #fff3ed;\n",
              "            color:  #000000;\n",
              "        }    #T_da51cac8_aa13_11ea_8a84_0242ac1c0002row19_col0 {\n",
              "            background-color:  #fff4ee;\n",
              "            color:  #000000;\n",
              "        }    #T_da51cac8_aa13_11ea_8a84_0242ac1c0002row20_col0 {\n",
              "            background-color:  #fff4ef;\n",
              "            color:  #000000;\n",
              "        }    #T_da51cac8_aa13_11ea_8a84_0242ac1c0002row21_col0 {\n",
              "            background-color:  #fff4ef;\n",
              "            color:  #000000;\n",
              "        }    #T_da51cac8_aa13_11ea_8a84_0242ac1c0002row22_col0 {\n",
              "            background-color:  #fff4ef;\n",
              "            color:  #000000;\n",
              "        }    #T_da51cac8_aa13_11ea_8a84_0242ac1c0002row23_col0 {\n",
              "            background-color:  #fff4ef;\n",
              "            color:  #000000;\n",
              "        }    #T_da51cac8_aa13_11ea_8a84_0242ac1c0002row24_col0 {\n",
              "            background-color:  #fff5f0;\n",
              "            color:  #000000;\n",
              "        }    #T_da51cac8_aa13_11ea_8a84_0242ac1c0002row25_col0 {\n",
              "            background-color:  #fff5f0;\n",
              "            color:  #000000;\n",
              "        }    #T_da51cac8_aa13_11ea_8a84_0242ac1c0002row26_col0 {\n",
              "            background-color:  #fff5f0;\n",
              "            color:  #000000;\n",
              "        }    #T_da51cac8_aa13_11ea_8a84_0242ac1c0002row27_col0 {\n",
              "            background-color:  #fff5f0;\n",
              "            color:  #000000;\n",
              "        }    #T_da51cac8_aa13_11ea_8a84_0242ac1c0002row28_col0 {\n",
              "            background-color:  #fff5f0;\n",
              "            color:  #000000;\n",
              "        }    #T_da51cac8_aa13_11ea_8a84_0242ac1c0002row29_col0 {\n",
              "            background-color:  #fff5f0;\n",
              "            color:  #000000;\n",
              "        }    #T_da51cac8_aa13_11ea_8a84_0242ac1c0002row30_col0 {\n",
              "            background-color:  #fff5f0;\n",
              "            color:  #000000;\n",
              "        }    #T_da51cac8_aa13_11ea_8a84_0242ac1c0002row31_col0 {\n",
              "            background-color:  #fff5f0;\n",
              "            color:  #000000;\n",
              "        }    #T_da51cac8_aa13_11ea_8a84_0242ac1c0002row32_col0 {\n",
              "            background-color:  #fff5f0;\n",
              "            color:  #000000;\n",
              "        }    #T_da51cac8_aa13_11ea_8a84_0242ac1c0002row33_col0 {\n",
              "            background-color:  #fff5f0;\n",
              "            color:  #000000;\n",
              "        }    #T_da51cac8_aa13_11ea_8a84_0242ac1c0002row34_col0 {\n",
              "            background-color:  #fff5f0;\n",
              "            color:  #000000;\n",
              "        }    #T_da51cac8_aa13_11ea_8a84_0242ac1c0002row35_col0 {\n",
              "            background-color:  #fff5f0;\n",
              "            color:  #000000;\n",
              "        }    #T_da51cac8_aa13_11ea_8a84_0242ac1c0002row36_col0 {\n",
              "            background-color:  #fff5f0;\n",
              "            color:  #000000;\n",
              "        }</style><table id=\"T_da51cac8_aa13_11ea_8a84_0242ac1c0002\" ><thead>    <tr>        <th class=\"blank level0\" ></th>        <th class=\"col_heading level0 col0\" >Total Active</th>    </tr>    <tr>        <th class=\"index_name level0\" >State/UnionTerritory</th>        <th class=\"blank\" ></th>    </tr></thead><tbody>\n",
              "                <tr>\n",
              "                        <th id=\"T_da51cac8_aa13_11ea_8a84_0242ac1c0002level0_row0\" class=\"row_heading level0 row0\" >Maharashtra</th>\n",
              "                        <td id=\"T_da51cac8_aa13_11ea_8a84_0242ac1c0002row0_col0\" class=\"data row0 col0\" >1066964</td>\n",
              "            </tr>\n",
              "            <tr>\n",
              "                        <th id=\"T_da51cac8_aa13_11ea_8a84_0242ac1c0002level0_row1\" class=\"row_heading level0 row1\" >Delhi</th>\n",
              "                        <td id=\"T_da51cac8_aa13_11ea_8a84_0242ac1c0002row1_col0\" class=\"data row1 col0\" >298121</td>\n",
              "            </tr>\n",
              "            <tr>\n",
              "                        <th id=\"T_da51cac8_aa13_11ea_8a84_0242ac1c0002level0_row2\" class=\"row_heading level0 row2\" >Tamil Nadu</th>\n",
              "                        <td id=\"T_da51cac8_aa13_11ea_8a84_0242ac1c0002row2_col0\" class=\"data row2 col0\" >288156</td>\n",
              "            </tr>\n",
              "            <tr>\n",
              "                        <th id=\"T_da51cac8_aa13_11ea_8a84_0242ac1c0002level0_row3\" class=\"row_heading level0 row3\" >Gujarat</th>\n",
              "                        <td id=\"T_da51cac8_aa13_11ea_8a84_0242ac1c0002row3_col0\" class=\"data row3 col0\" >243523</td>\n",
              "            </tr>\n",
              "            <tr>\n",
              "                        <th id=\"T_da51cac8_aa13_11ea_8a84_0242ac1c0002level0_row4\" class=\"row_heading level0 row4\" >Madhya Pradesh</th>\n",
              "                        <td id=\"T_da51cac8_aa13_11ea_8a84_0242ac1c0002row4_col0\" class=\"data row4 col0\" >119825</td>\n",
              "            </tr>\n",
              "            <tr>\n",
              "                        <th id=\"T_da51cac8_aa13_11ea_8a84_0242ac1c0002level0_row5\" class=\"row_heading level0 row5\" >Rajasthan</th>\n",
              "                        <td id=\"T_da51cac8_aa13_11ea_8a84_0242ac1c0002row5_col0\" class=\"data row5 col0\" >112630</td>\n",
              "            </tr>\n",
              "            <tr>\n",
              "                        <th id=\"T_da51cac8_aa13_11ea_8a84_0242ac1c0002level0_row6\" class=\"row_heading level0 row6\" >Uttar Pradesh</th>\n",
              "                        <td id=\"T_da51cac8_aa13_11ea_8a84_0242ac1c0002row6_col0\" class=\"data row6 col0\" >111497</td>\n",
              "            </tr>\n",
              "            <tr>\n",
              "                        <th id=\"T_da51cac8_aa13_11ea_8a84_0242ac1c0002level0_row7\" class=\"row_heading level0 row7\" >Cases being reassigned to states</th>\n",
              "                        <td id=\"T_da51cac8_aa13_11ea_8a84_0242ac1c0002row7_col0\" class=\"data row7 col0\" >88577</td>\n",
              "            </tr>\n",
              "            <tr>\n",
              "                        <th id=\"T_da51cac8_aa13_11ea_8a84_0242ac1c0002level0_row8\" class=\"row_heading level0 row8\" >West Bengal</th>\n",
              "                        <td id=\"T_da51cac8_aa13_11ea_8a84_0242ac1c0002row8_col0\" class=\"data row8 col0\" >79769</td>\n",
              "            </tr>\n",
              "            <tr>\n",
              "                        <th id=\"T_da51cac8_aa13_11ea_8a84_0242ac1c0002level0_row9\" class=\"row_heading level0 row9\" >Andhra Pradesh</th>\n",
              "                        <td id=\"T_da51cac8_aa13_11ea_8a84_0242ac1c0002row9_col0\" class=\"data row9 col0\" >57348</td>\n",
              "            </tr>\n",
              "            <tr>\n",
              "                        <th id=\"T_da51cac8_aa13_11ea_8a84_0242ac1c0002level0_row10\" class=\"row_heading level0 row10\" >Karnataka</th>\n",
              "                        <td id=\"T_da51cac8_aa13_11ea_8a84_0242ac1c0002row10_col0\" class=\"data row10 col0\" >48950</td>\n",
              "            </tr>\n",
              "            <tr>\n",
              "                        <th id=\"T_da51cac8_aa13_11ea_8a84_0242ac1c0002level0_row11\" class=\"row_heading level0 row11\" >Bihar</th>\n",
              "                        <td id=\"T_da51cac8_aa13_11ea_8a84_0242ac1c0002row11_col0\" class=\"data row11 col0\" >47785</td>\n",
              "            </tr>\n",
              "            <tr>\n",
              "                        <th id=\"T_da51cac8_aa13_11ea_8a84_0242ac1c0002level0_row12\" class=\"row_heading level0 row12\" >Telengana</th>\n",
              "                        <td id=\"T_da51cac8_aa13_11ea_8a84_0242ac1c0002row12_col0\" class=\"data row12 col0\" >42943</td>\n",
              "            </tr>\n",
              "            <tr>\n",
              "                        <th id=\"T_da51cac8_aa13_11ea_8a84_0242ac1c0002level0_row13\" class=\"row_heading level0 row13\" >Jammu and Kashmir</th>\n",
              "                        <td id=\"T_da51cac8_aa13_11ea_8a84_0242ac1c0002row13_col0\" class=\"data row13 col0\" >40313</td>\n",
              "            </tr>\n",
              "            <tr>\n",
              "                        <th id=\"T_da51cac8_aa13_11ea_8a84_0242ac1c0002level0_row14\" class=\"row_heading level0 row14\" >Punjab</th>\n",
              "                        <td id=\"T_da51cac8_aa13_11ea_8a84_0242ac1c0002row14_col0\" class=\"data row14 col0\" >30976</td>\n",
              "            </tr>\n",
              "            <tr>\n",
              "                        <th id=\"T_da51cac8_aa13_11ea_8a84_0242ac1c0002level0_row15\" class=\"row_heading level0 row15\" >Haryana</th>\n",
              "                        <td id=\"T_da51cac8_aa13_11ea_8a84_0242ac1c0002row15_col0\" class=\"data row15 col0\" >25404</td>\n",
              "            </tr>\n",
              "            <tr>\n",
              "                        <th id=\"T_da51cac8_aa13_11ea_8a84_0242ac1c0002level0_row16\" class=\"row_heading level0 row16\" >Odisha</th>\n",
              "                        <td id=\"T_da51cac8_aa13_11ea_8a84_0242ac1c0002row16_col0\" class=\"data row16 col0\" >22576</td>\n",
              "            </tr>\n",
              "            <tr>\n",
              "                        <th id=\"T_da51cac8_aa13_11ea_8a84_0242ac1c0002level0_row17\" class=\"row_heading level0 row17\" >Kerala</th>\n",
              "                        <td id=\"T_da51cac8_aa13_11ea_8a84_0242ac1c0002row17_col0\" class=\"data row17 col0\" >18298</td>\n",
              "            </tr>\n",
              "            <tr>\n",
              "                        <th id=\"T_da51cac8_aa13_11ea_8a84_0242ac1c0002level0_row18\" class=\"row_heading level0 row18\" >Assam</th>\n",
              "                        <td id=\"T_da51cac8_aa13_11ea_8a84_0242ac1c0002row18_col0\" class=\"data row18 col0\" >16318</td>\n",
              "            </tr>\n",
              "            <tr>\n",
              "                        <th id=\"T_da51cac8_aa13_11ea_8a84_0242ac1c0002level0_row19\" class=\"row_heading level0 row19\" >Uttarakhand</th>\n",
              "                        <td id=\"T_da51cac8_aa13_11ea_8a84_0242ac1c0002row19_col0\" class=\"data row19 col0\" >10342</td>\n",
              "            </tr>\n",
              "            <tr>\n",
              "                        <th id=\"T_da51cac8_aa13_11ea_8a84_0242ac1c0002level0_row20\" class=\"row_heading level0 row20\" >Jharkhand</th>\n",
              "                        <td id=\"T_da51cac8_aa13_11ea_8a84_0242ac1c0002row20_col0\" class=\"data row20 col0\" >8075</td>\n",
              "            </tr>\n",
              "            <tr>\n",
              "                        <th id=\"T_da51cac8_aa13_11ea_8a84_0242ac1c0002level0_row21\" class=\"row_heading level0 row21\" >Chhattisgarh</th>\n",
              "                        <td id=\"T_da51cac8_aa13_11ea_8a84_0242ac1c0002row21_col0\" class=\"data row21 col0\" >6492</td>\n",
              "            </tr>\n",
              "            <tr>\n",
              "                        <th id=\"T_da51cac8_aa13_11ea_8a84_0242ac1c0002level0_row22\" class=\"row_heading level0 row22\" >Tripura</th>\n",
              "                        <td id=\"T_da51cac8_aa13_11ea_8a84_0242ac1c0002row22_col0\" class=\"data row22 col0\" >4692</td>\n",
              "            </tr>\n",
              "            <tr>\n",
              "                        <th id=\"T_da51cac8_aa13_11ea_8a84_0242ac1c0002level0_row23\" class=\"row_heading level0 row23\" >Chandigarh</th>\n",
              "                        <td id=\"T_da51cac8_aa13_11ea_8a84_0242ac1c0002row23_col0\" class=\"data row23 col0\" >4297</td>\n",
              "            </tr>\n",
              "            <tr>\n",
              "                        <th id=\"T_da51cac8_aa13_11ea_8a84_0242ac1c0002level0_row24\" class=\"row_heading level0 row24\" >Himachal Pradesh</th>\n",
              "                        <td id=\"T_da51cac8_aa13_11ea_8a84_0242ac1c0002row24_col0\" class=\"data row24 col0\" >3914</td>\n",
              "            </tr>\n",
              "            <tr>\n",
              "                        <th id=\"T_da51cac8_aa13_11ea_8a84_0242ac1c0002level0_row25\" class=\"row_heading level0 row25\" >Goa</th>\n",
              "                        <td id=\"T_da51cac8_aa13_11ea_8a84_0242ac1c0002row25_col0\" class=\"data row25 col0\" >1185</td>\n",
              "            </tr>\n",
              "            <tr>\n",
              "                        <th id=\"T_da51cac8_aa13_11ea_8a84_0242ac1c0002level0_row26\" class=\"row_heading level0 row26\" >Ladakh</th>\n",
              "                        <td id=\"T_da51cac8_aa13_11ea_8a84_0242ac1c0002row26_col0\" class=\"data row26 col0\" >1145</td>\n",
              "            </tr>\n",
              "            <tr>\n",
              "                        <th id=\"T_da51cac8_aa13_11ea_8a84_0242ac1c0002level0_row27\" class=\"row_heading level0 row27\" >Manipur</th>\n",
              "                        <td id=\"T_da51cac8_aa13_11ea_8a84_0242ac1c0002row27_col0\" class=\"data row27 col0\" >1014</td>\n",
              "            </tr>\n",
              "            <tr>\n",
              "                        <th id=\"T_da51cac8_aa13_11ea_8a84_0242ac1c0002level0_row28\" class=\"row_heading level0 row28\" >Puducherry</th>\n",
              "                        <td id=\"T_da51cac8_aa13_11ea_8a84_0242ac1c0002row28_col0\" class=\"data row28 col0\" >898</td>\n",
              "            </tr>\n",
              "            <tr>\n",
              "                        <th id=\"T_da51cac8_aa13_11ea_8a84_0242ac1c0002level0_row29\" class=\"row_heading level0 row29\" >Nagaland</th>\n",
              "                        <td id=\"T_da51cac8_aa13_11ea_8a84_0242ac1c0002row29_col0\" class=\"data row29 col0\" >566</td>\n",
              "            </tr>\n",
              "            <tr>\n",
              "                        <th id=\"T_da51cac8_aa13_11ea_8a84_0242ac1c0002level0_row30\" class=\"row_heading level0 row30\" >Meghalaya</th>\n",
              "                        <td id=\"T_da51cac8_aa13_11ea_8a84_0242ac1c0002row30_col0\" class=\"data row30 col0\" >393</td>\n",
              "            </tr>\n",
              "            <tr>\n",
              "                        <th id=\"T_da51cac8_aa13_11ea_8a84_0242ac1c0002level0_row31\" class=\"row_heading level0 row31\" >Andaman and Nicobar Islands</th>\n",
              "                        <td id=\"T_da51cac8_aa13_11ea_8a84_0242ac1c0002row31_col0\" class=\"data row31 col0\" >364</td>\n",
              "            </tr>\n",
              "            <tr>\n",
              "                        <th id=\"T_da51cac8_aa13_11ea_8a84_0242ac1c0002level0_row32\" class=\"row_heading level0 row32\" >Arunachal Pradesh</th>\n",
              "                        <td id=\"T_da51cac8_aa13_11ea_8a84_0242ac1c0002row32_col0\" class=\"data row32 col0\" >241</td>\n",
              "            </tr>\n",
              "            <tr>\n",
              "                        <th id=\"T_da51cac8_aa13_11ea_8a84_0242ac1c0002level0_row33\" class=\"row_heading level0 row33\" >Unassigned</th>\n",
              "                        <td id=\"T_da51cac8_aa13_11ea_8a84_0242ac1c0002row33_col0\" class=\"data row33 col0\" >161</td>\n",
              "            </tr>\n",
              "            <tr>\n",
              "                        <th id=\"T_da51cac8_aa13_11ea_8a84_0242ac1c0002level0_row34\" class=\"row_heading level0 row34\" >Mizoram</th>\n",
              "                        <td id=\"T_da51cac8_aa13_11ea_8a84_0242ac1c0002row34_col0\" class=\"data row34 col0\" >131</td>\n",
              "            </tr>\n",
              "            <tr>\n",
              "                        <th id=\"T_da51cac8_aa13_11ea_8a84_0242ac1c0002level0_row35\" class=\"row_heading level0 row35\" >Dadar Nagar Haveli</th>\n",
              "                        <td id=\"T_da51cac8_aa13_11ea_8a84_0242ac1c0002row35_col0\" class=\"data row35 col0\" >90</td>\n",
              "            </tr>\n",
              "            <tr>\n",
              "                        <th id=\"T_da51cac8_aa13_11ea_8a84_0242ac1c0002level0_row36\" class=\"row_heading level0 row36\" >Sikkim</th>\n",
              "                        <td id=\"T_da51cac8_aa13_11ea_8a84_0242ac1c0002row36_col0\" class=\"data row36 col0\" >25</td>\n",
              "            </tr>\n",
              "    </tbody></table>"
            ],
            "text/plain": [
              "<pandas.io.formats.style.Styler at 0x7f2e6f6339e8>"
            ]
          },
          "metadata": {
            "tags": []
          },
          "execution_count": 12
        }
      ]
    },
    {
      "cell_type": "markdown",
      "metadata": {
        "id": "l_gFm8bRmjvW",
        "colab_type": "text"
      },
      "source": [
        " **Visualization inference:**\n",
        "*   Maharashtra, Delhi, & Tamil nadu are currently TOP 3 states with maximum number of Active Cases\n",
        "*  Sikkim has minimum number of cases\n"
      ]
    },
    {
      "cell_type": "code",
      "metadata": {
        "id": "Mc3jMRidmO03",
        "colab_type": "code",
        "colab": {}
      },
      "source": [
        "import plotly\n",
        "plotly.io.renderers.default = 'colab'"
      ],
      "execution_count": 0,
      "outputs": []
    },
    {
      "cell_type": "code",
      "metadata": {
        "id": "cQoJtWvdmseC",
        "colab_type": "code",
        "outputId": "88aee17b-4b81-4289-dbe6-55744b327e5d",
        "colab": {
          "base_uri": "https://localhost:8080/",
          "height": 542
        }
      },
      "source": [
        "import plotly.graph_objects as go\n",
        "fig = go.Figure()\n",
        "fig.add_trace(go.Scatter(x=df['Date'], y=df['Confirmed'], mode='lines+markers', name='Total Cases'))\n",
        "fig.update_layout(title_text=\"Trend of COVID19 Cases in India\", plot_bgcolor='rgb(230, 230, 230)')\n",
        "fig.show()"
      ],
      "execution_count": 0,
      "outputs": [
        {
          "output_type": "display_data",
          "data": {
            "text/html": [
              "<html>\n",
              "<head><meta charset=\"utf-8\" /></head>\n",
              "<body>\n",
              "    <div>\n",
              "            <script src=\"https://cdnjs.cloudflare.com/ajax/libs/mathjax/2.7.5/MathJax.js?config=TeX-AMS-MML_SVG\"></script><script type=\"text/javascript\">if (window.MathJax) {MathJax.Hub.Config({SVG: {font: \"STIX-Web\"}});}</script>\n",
              "                <script type=\"text/javascript\">window.PlotlyConfig = {MathJaxConfig: 'local'};</script>\n",
              "        <script src=\"https://cdn.plot.ly/plotly-latest.min.js\"></script>    \n",
              "            <div id=\"8442874d-0ad2-49d4-a31e-c8eae3b5bae9\" class=\"plotly-graph-div\" style=\"height:525px; width:100%;\"></div>\n",
              "            <script type=\"text/javascript\">\n",
              "                \n",
              "                    window.PLOTLYENV=window.PLOTLYENV || {};\n",
              "                    \n",
              "                if (document.getElementById(\"8442874d-0ad2-49d4-a31e-c8eae3b5bae9\")) {\n",
              "                    Plotly.newPlot(\n",
              "                        '8442874d-0ad2-49d4-a31e-c8eae3b5bae9',\n",
              "                        [{\"mode\": \"lines+markers\", \"name\": \"Total Cases\", \"type\": \"scatter\", \"x\": [\"30/01/20\", \"31/01/20\", \"01/02/20\", \"02/02/20\", \"03/02/20\", \"04/02/20\", \"05/02/20\", \"06/02/20\", \"07/02/20\", \"08/02/20\", \"09/02/20\", \"10/02/20\", \"11/02/20\", \"12/02/20\", \"13/02/20\", \"14/02/20\", \"15/02/20\", \"16/02/20\", \"17/02/20\", \"18/02/20\", \"19/02/20\", \"20/02/20\", \"21/02/20\", \"22/02/20\", \"23/02/20\", \"24/02/20\", \"25/02/20\", \"26/02/20\", \"27/02/20\", \"28/02/20\", \"29/02/20\", \"01/03/20\", \"02/03/20\", \"02/03/20\", \"02/03/20\", \"03/03/20\", \"03/03/20\", \"03/03/20\", \"03/03/20\", \"04/03/20\", \"04/03/20\", \"04/03/20\", \"04/03/20\", \"04/03/20\", \"04/03/20\", \"05/03/20\", \"05/03/20\", \"05/03/20\", \"05/03/20\", \"05/03/20\", \"05/03/20\", \"06/03/20\", \"06/03/20\", \"06/03/20\", \"06/03/20\", \"06/03/20\", \"06/03/20\", \"07/03/20\", \"07/03/20\", \"07/03/20\", \"07/03/20\", \"07/03/20\", \"07/03/20\", \"07/03/20\", \"07/03/20\", \"08/03/20\", \"08/03/20\", \"08/03/20\", \"08/03/20\", \"08/03/20\", \"08/03/20\", \"08/03/20\", \"08/03/20\", \"09/03/20\", \"09/03/20\", \"09/03/20\", \"09/03/20\", \"09/03/20\", \"09/03/20\", \"09/03/20\", \"09/03/20\", \"09/03/20\", \"09/03/20\", \"09/03/20\", \"09/03/20\", \"10/03/20\", \"10/03/20\", \"10/03/20\", \"10/03/20\", \"10/03/20\", \"10/03/20\", \"10/03/20\", \"10/03/20\", \"10/03/20\", \"10/03/20\", \"10/03/20\", \"10/03/20\", \"11/03/20\", \"11/03/20\", \"11/03/20\", \"11/03/20\", \"11/03/20\", \"11/03/20\", \"11/03/20\", \"11/03/20\", \"11/03/20\", \"11/03/20\", \"11/03/20\", \"11/03/20\", \"12/03/20\", \"12/03/20\", \"12/03/20\", \"12/03/20\", \"12/03/20\", \"12/03/20\", \"12/03/20\", \"12/03/20\", \"12/03/20\", \"12/03/20\", \"12/03/20\", \"12/03/20\", \"12/03/20\", \"13/03/20\", \"13/03/20\", \"13/03/20\", \"13/03/20\", \"13/03/20\", \"13/03/20\", \"13/03/20\", \"13/03/20\", \"13/03/20\", \"13/03/20\", \"13/03/20\", \"13/03/20\", \"13/03/20\", \"14/03/20\", \"14/03/20\", \"14/03/20\", \"14/03/20\", \"14/03/20\", \"14/03/20\", \"14/03/20\", \"14/03/20\", \"14/03/20\", \"14/03/20\", \"14/03/20\", \"14/03/20\", \"14/03/20\", \"15/03/20\", \"15/03/20\", \"15/03/20\", \"15/03/20\", \"15/03/20\", \"15/03/20\", \"15/03/20\", \"15/03/20\", \"15/03/20\", \"15/03/20\", \"15/03/20\", \"15/03/20\", \"15/03/20\", \"15/03/20\", \"16/03/20\", \"16/03/20\", \"16/03/20\", \"16/03/20\", \"16/03/20\", \"16/03/20\", \"16/03/20\", \"16/03/20\", \"16/03/20\", \"16/03/20\", \"16/03/20\", \"16/03/20\", \"16/03/20\", \"16/03/20\", \"16/03/20\", \"17/03/20\", \"17/03/20\", \"17/03/20\", \"17/03/20\", \"17/03/20\", \"17/03/20\", \"17/03/20\", \"17/03/20\", \"17/03/20\", \"17/03/20\", \"17/03/20\", \"17/03/20\", \"17/03/20\", \"17/03/20\", \"17/03/20\", \"18/03/20\", \"18/03/20\", \"18/03/20\", \"18/03/20\", \"18/03/20\", \"18/03/20\", \"18/03/20\", \"18/03/20\", \"18/03/20\", \"18/03/20\", \"18/03/20\", \"18/03/20\", \"18/03/20\", \"18/03/20\", \"18/03/20\", \"18/03/20\", \"18/03/20\", \"19/03/20\", \"19/03/20\", \"19/03/20\", \"19/03/20\", \"19/03/20\", \"19/03/20\", \"19/03/20\", \"19/03/20\", \"19/03/20\", \"19/03/20\", \"19/03/20\", \"19/03/20\", \"19/03/20\", \"19/03/20\", \"19/03/20\", \"19/03/20\", \"19/03/20\", \"19/03/20\", \"19/03/20\", \"20/03/20\", \"20/03/20\", \"20/03/20\", \"20/03/20\", \"20/03/20\", \"20/03/20\", \"20/03/20\", \"20/03/20\", \"20/03/20\", \"20/03/20\", \"20/03/20\", \"20/03/20\", \"20/03/20\", \"20/03/20\", \"20/03/20\", \"20/03/20\", \"20/03/20\", \"20/03/20\", \"20/03/20\", \"20/03/20\", \"21/03/20\", \"21/03/20\", \"21/03/20\", \"21/03/20\", \"21/03/20\", \"21/03/20\", \"21/03/20\", \"21/03/20\", \"21/03/20\", \"21/03/20\", \"21/03/20\", \"21/03/20\", \"21/03/20\", \"21/03/20\", \"21/03/20\", \"21/03/20\", \"21/03/20\", \"21/03/20\", \"21/03/20\", \"21/03/20\", \"21/03/20\", \"21/03/20\", \"22/03/20\", \"22/03/20\", \"22/03/20\", \"22/03/20\", \"22/03/20\", \"22/03/20\", \"22/03/20\", \"22/03/20\", \"22/03/20\", \"22/03/20\", \"22/03/20\", \"22/03/20\", \"22/03/20\", \"22/03/20\", \"22/03/20\", \"22/03/20\", \"22/03/20\", \"22/03/20\", \"22/03/20\", \"22/03/20\", \"22/03/20\", \"22/03/20\", \"22/03/20\", \"23/03/20\", \"23/03/20\", \"23/03/20\", \"23/03/20\", \"23/03/20\", \"23/03/20\", \"23/03/20\", \"23/03/20\", \"23/03/20\", \"23/03/20\", \"23/03/20\", \"23/03/20\", \"23/03/20\", \"23/03/20\", \"23/03/20\", \"23/03/20\", \"23/03/20\", \"23/03/20\", \"23/03/20\", \"23/03/20\", \"23/03/20\", \"23/03/20\", \"23/03/20\", \"24/03/20\", \"24/03/20\", \"24/03/20\", \"24/03/20\", \"24/03/20\", \"24/03/20\", \"24/03/20\", \"24/03/20\", \"24/03/20\", \"24/03/20\", \"24/03/20\", \"24/03/20\", \"24/03/20\", \"24/03/20\", \"24/03/20\", \"24/03/20\", \"24/03/20\", \"24/03/20\", \"24/03/20\", \"24/03/20\", \"24/03/20\", \"24/03/20\", \"24/03/20\", \"24/03/20\", \"25/03/20\", \"25/03/20\", \"25/03/20\", \"25/03/20\", \"25/03/20\", \"25/03/20\", \"25/03/20\", \"25/03/20\", \"25/03/20\", \"25/03/20\", \"25/03/20\", \"25/03/20\", \"25/03/20\", \"25/03/20\", \"25/03/20\", \"25/03/20\", \"25/03/20\", \"25/03/20\", \"25/03/20\", \"25/03/20\", \"25/03/20\", \"25/03/20\", \"25/03/20\", \"25/03/20\", \"25/03/20\", \"26/03/20\", \"26/03/20\", \"26/03/20\", \"26/03/20\", \"26/03/20\", \"26/03/20\", \"26/03/20\", \"26/03/20\", \"26/03/20\", \"26/03/20\", \"26/03/20\", \"26/03/20\", \"26/03/20\", \"26/03/20\", \"26/03/20\", \"26/03/20\", \"26/03/20\", \"26/03/20\", \"26/03/20\", \"26/03/20\", \"26/03/20\", \"26/03/20\", \"26/03/20\", \"26/03/20\", \"26/03/20\", \"26/03/20\", \"26/03/20\", \"27/03/20\", \"27/03/20\", \"27/03/20\", \"27/03/20\", \"27/03/20\", \"27/03/20\", \"27/03/20\", \"27/03/20\", \"27/03/20\", \"27/03/20\", \"27/03/20\", \"27/03/20\", \"27/03/20\", \"27/03/20\", \"27/03/20\", \"27/03/20\", \"27/03/20\", \"27/03/20\", \"27/03/20\", \"27/03/20\", \"27/03/20\", \"27/03/20\", \"27/03/20\", \"27/03/20\", \"27/03/20\", \"27/03/20\", \"27/03/20\", \"28/03/20\", \"28/03/20\", \"28/03/20\", \"28/03/20\", \"28/03/20\", \"28/03/20\", \"28/03/20\", \"28/03/20\", \"28/03/20\", \"28/03/20\", \"28/03/20\", \"28/03/20\", \"28/03/20\", \"28/03/20\", \"28/03/20\", \"28/03/20\", \"28/03/20\", \"28/03/20\", \"28/03/20\", \"28/03/20\", \"28/03/20\", \"28/03/20\", \"28/03/20\", \"28/03/20\", \"28/03/20\", \"28/03/20\", \"28/03/20\", \"29/03/20\", \"29/03/20\", \"29/03/20\", \"29/03/20\", \"29/03/20\", \"29/03/20\", \"29/03/20\", \"29/03/20\", \"29/03/20\", \"29/03/20\", \"29/03/20\", \"29/03/20\", \"29/03/20\", \"29/03/20\", \"29/03/20\", \"29/03/20\", \"29/03/20\", \"29/03/20\", \"29/03/20\", \"29/03/20\", \"29/03/20\", \"29/03/20\", \"29/03/20\", \"29/03/20\", \"29/03/20\", \"29/03/20\", \"29/03/20\", \"30/03/20\", \"30/03/20\", \"30/03/20\", \"30/03/20\", \"30/03/20\", \"30/03/20\", \"30/03/20\", \"30/03/20\", \"30/03/20\", \"30/03/20\", \"30/03/20\", \"30/03/20\", \"30/03/20\", \"30/03/20\", \"30/03/20\", \"30/03/20\", \"30/03/20\", \"30/03/20\", \"30/03/20\", \"30/03/20\", \"30/03/20\", \"30/03/20\", \"30/03/20\", \"30/03/20\", \"30/03/20\", \"30/03/20\", \"30/03/20\", \"30/03/20\", \"31/03/20\", \"31/03/20\", \"31/03/20\", \"31/03/20\", \"31/03/20\", \"31/03/20\", \"31/03/20\", \"31/03/20\", \"31/03/20\", \"31/03/20\", \"31/03/20\", \"31/03/20\", \"31/03/20\", \"31/03/20\", \"31/03/20\", \"31/03/20\", \"31/03/20\", \"31/03/20\", \"31/03/20\", \"31/03/20\", \"31/03/20\", \"31/03/20\", \"31/03/20\", \"31/03/20\", \"31/03/20\", \"31/03/20\", \"31/03/20\", \"31/03/20\", \"01/04/20\", \"01/04/20\", \"01/04/20\", \"01/04/20\", \"01/04/20\", \"01/04/20\", \"01/04/20\", \"01/04/20\", \"01/04/20\", \"01/04/20\", \"01/04/20\", \"01/04/20\", \"01/04/20\", \"01/04/20\", \"01/04/20\", \"01/04/20\", \"01/04/20\", \"01/04/20\", \"01/04/20\", \"01/04/20\", \"01/04/20\", \"01/04/20\", \"01/04/20\", \"01/04/20\", \"01/04/20\", \"01/04/20\", \"01/04/20\", \"01/04/20\", \"01/04/20\", \"02/04/20\", \"02/04/20\", \"02/04/20\", \"02/04/20\", \"02/04/20\", \"02/04/20\", \"02/04/20\", \"02/04/20\", \"02/04/20\", \"02/04/20\", \"02/04/20\", \"02/04/20\", \"02/04/20\", \"02/04/20\", \"02/04/20\", \"02/04/20\", \"02/04/20\", \"02/04/20\", \"02/04/20\", \"02/04/20\", \"02/04/20\", \"02/04/20\", \"02/04/20\", \"02/04/20\", \"02/04/20\", \"02/04/20\", \"02/04/20\", \"02/04/20\", \"02/04/20\", \"03/04/20\", \"03/04/20\", \"03/04/20\", \"03/04/20\", \"03/04/20\", \"03/04/20\", \"03/04/20\", \"03/04/20\", \"03/04/20\", \"03/04/20\", \"03/04/20\", \"03/04/20\", \"03/04/20\", \"03/04/20\", \"03/04/20\", \"03/04/20\", \"03/04/20\", \"03/04/20\", \"03/04/20\", \"03/04/20\", \"03/04/20\", \"03/04/20\", \"03/04/20\", \"03/04/20\", \"03/04/20\", \"03/04/20\", \"03/04/20\", \"03/04/20\", \"03/04/20\", \"03/04/20\", \"03/04/20\", \"04/04/20\", \"04/04/20\", \"04/04/20\", \"04/04/20\", \"04/04/20\", \"04/04/20\", \"04/04/20\", \"04/04/20\", \"04/04/20\", \"04/04/20\", \"04/04/20\", \"04/04/20\", \"04/04/20\", \"04/04/20\", \"04/04/20\", \"04/04/20\", \"04/04/20\", \"04/04/20\", \"04/04/20\", \"04/04/20\", \"04/04/20\", \"04/04/20\", \"04/04/20\", \"04/04/20\", \"04/04/20\", \"04/04/20\", \"04/04/20\", \"04/04/20\", \"04/04/20\", \"04/04/20\", \"05/04/20\", \"05/04/20\", \"05/04/20\", \"05/04/20\", \"05/04/20\", \"05/04/20\", \"05/04/20\", \"05/04/20\", \"05/04/20\", \"05/04/20\", \"05/04/20\", \"05/04/20\", \"05/04/20\", \"05/04/20\", \"05/04/20\", \"05/04/20\", \"05/04/20\", \"05/04/20\", \"05/04/20\", \"05/04/20\", \"05/04/20\", \"05/04/20\", \"05/04/20\", \"05/04/20\", \"05/04/20\", \"05/04/20\", \"05/04/20\", \"05/04/20\", \"05/04/20\", \"05/04/20\", \"06/04/20\", \"06/04/20\", \"06/04/20\", \"06/04/20\", \"06/04/20\", \"06/04/20\", \"06/04/20\", \"06/04/20\", \"06/04/20\", \"06/04/20\", \"06/04/20\", \"06/04/20\", \"06/04/20\", \"06/04/20\", \"06/04/20\", \"06/04/20\", \"06/04/20\", \"06/04/20\", \"06/04/20\", \"06/04/20\", \"06/04/20\", \"06/04/20\", \"06/04/20\", \"06/04/20\", \"06/04/20\", \"06/04/20\", \"06/04/20\", \"06/04/20\", \"06/04/20\", \"06/04/20\", \"07/04/20\", \"07/04/20\", \"07/04/20\", \"07/04/20\", \"07/04/20\", \"07/04/20\", \"07/04/20\", \"07/04/20\", \"07/04/20\", \"07/04/20\", \"07/04/20\", \"07/04/20\", \"07/04/20\", \"07/04/20\", \"07/04/20\", \"07/04/20\", \"07/04/20\", \"07/04/20\", \"07/04/20\", \"07/04/20\", \"07/04/20\", \"07/04/20\", \"07/04/20\", \"07/04/20\", \"07/04/20\", \"07/04/20\", \"07/04/20\", \"07/04/20\", \"07/04/20\", \"07/04/20\", \"07/04/20\", \"08/04/20\", \"08/04/20\", \"08/04/20\", \"08/04/20\", \"08/04/20\", \"08/04/20\", \"08/04/20\", \"08/04/20\", \"08/04/20\", \"08/04/20\", \"08/04/20\", \"08/04/20\", \"08/04/20\", \"08/04/20\", \"08/04/20\", \"08/04/20\", \"08/04/20\", \"08/04/20\", \"08/04/20\", \"08/04/20\", \"08/04/20\", \"08/04/20\", \"08/04/20\", \"08/04/20\", \"08/04/20\", \"08/04/20\", \"08/04/20\", \"08/04/20\", \"08/04/20\", \"08/04/20\", \"08/04/20\", \"09/04/20\", \"09/04/20\", \"09/04/20\", \"09/04/20\", \"09/04/20\", \"09/04/20\", \"09/04/20\", \"09/04/20\", \"09/04/20\", \"09/04/20\", \"09/04/20\", \"09/04/20\", \"09/04/20\", \"09/04/20\", \"09/04/20\", \"09/04/20\", \"09/04/20\", \"09/04/20\", \"09/04/20\", \"09/04/20\", \"09/04/20\", \"09/04/20\", \"09/04/20\", \"09/04/20\", \"09/04/20\", \"09/04/20\", \"09/04/20\", \"09/04/20\", \"09/04/20\", \"09/04/20\", \"09/04/20\", \"10/04/20\", \"10/04/20\", \"10/04/20\", \"10/04/20\", \"10/04/20\", \"10/04/20\", \"10/04/20\", \"10/04/20\", \"10/04/20\", \"10/04/20\", \"10/04/20\", \"10/04/20\", \"10/04/20\", \"10/04/20\", \"10/04/20\", \"10/04/20\", \"10/04/20\", \"10/04/20\", \"10/04/20\", \"10/04/20\", \"10/04/20\", \"10/04/20\", \"10/04/20\", \"10/04/20\", \"10/04/20\", \"10/04/20\", \"10/04/20\", \"10/04/20\", \"10/04/20\", \"10/04/20\", \"10/04/20\", \"11/04/20\", \"11/04/20\", \"11/04/20\", \"11/04/20\", \"11/04/20\", \"11/04/20\", \"11/04/20\", \"11/04/20\", \"11/04/20\", \"11/04/20\", \"11/04/20\", \"11/04/20\", \"11/04/20\", \"11/04/20\", \"11/04/20\", \"11/04/20\", \"11/04/20\", \"11/04/20\", \"11/04/20\", \"11/04/20\", \"11/04/20\", \"11/04/20\", \"11/04/20\", \"11/04/20\", \"11/04/20\", \"11/04/20\", \"11/04/20\", \"11/04/20\", \"11/04/20\", \"11/04/20\", \"11/04/20\", \"12/04/20\", \"12/04/20\", \"12/04/20\", \"12/04/20\", \"12/04/20\", \"12/04/20\", \"12/04/20\", \"12/04/20\", \"12/04/20\", \"12/04/20\", \"12/04/20\", \"12/04/20\", \"12/04/20\", \"12/04/20\", \"12/04/20\", \"12/04/20\", \"12/04/20\", \"12/04/20\", \"12/04/20\", \"12/04/20\", \"12/04/20\", \"12/04/20\", \"12/04/20\", \"12/04/20\", \"12/04/20\", \"12/04/20\", \"12/04/20\", \"12/04/20\", \"12/04/20\", \"12/04/20\", \"12/04/20\", \"13/04/20\", \"13/04/20\", \"13/04/20\", \"13/04/20\", \"13/04/20\", \"13/04/20\", \"13/04/20\", \"13/04/20\", \"13/04/20\", \"13/04/20\", \"13/04/20\", \"13/04/20\", \"13/04/20\", \"13/04/20\", \"13/04/20\", \"13/04/20\", \"13/04/20\", \"13/04/20\", \"13/04/20\", \"13/04/20\", \"13/04/20\", \"13/04/20\", \"13/04/20\", \"13/04/20\", \"13/04/20\", \"13/04/20\", \"13/04/20\", \"13/04/20\", \"13/04/20\", \"13/04/20\", \"13/04/20\", \"13/04/20\", \"14/04/20\", \"14/04/20\", \"14/04/20\", \"14/04/20\", \"14/04/20\", \"14/04/20\", \"14/04/20\", \"14/04/20\", \"14/04/20\", \"14/04/20\", \"14/04/20\", \"14/04/20\", \"14/04/20\", \"14/04/20\", \"14/04/20\", \"14/04/20\", \"14/04/20\", \"14/04/20\", \"14/04/20\", \"14/04/20\", \"14/04/20\", \"14/04/20\", \"14/04/20\", \"14/04/20\", \"14/04/20\", \"14/04/20\", \"14/04/20\", \"14/04/20\", \"14/04/20\", \"14/04/20\", \"14/04/20\", \"14/04/20\", \"14/04/20\", \"15/04/20\", \"15/04/20\", \"15/04/20\", \"15/04/20\", \"15/04/20\", \"15/04/20\", \"15/04/20\", \"15/04/20\", \"15/04/20\", \"15/04/20\", \"15/04/20\", \"15/04/20\", \"15/04/20\", \"15/04/20\", \"15/04/20\", \"15/04/20\", \"15/04/20\", \"15/04/20\", \"15/04/20\", \"15/04/20\", \"15/04/20\", \"15/04/20\", \"15/04/20\", \"15/04/20\", \"15/04/20\", \"15/04/20\", \"15/04/20\", \"15/04/20\", \"15/04/20\", \"15/04/20\", \"15/04/20\", \"15/04/20\", \"15/04/20\", \"16/04/20\", \"16/04/20\", \"16/04/20\", \"16/04/20\", \"16/04/20\", \"16/04/20\", \"16/04/20\", \"16/04/20\", \"16/04/20\", \"16/04/20\", \"16/04/20\", \"16/04/20\", \"16/04/20\", \"16/04/20\", \"16/04/20\", \"16/04/20\", \"16/04/20\", \"16/04/20\", \"16/04/20\", \"16/04/20\", \"16/04/20\", \"16/04/20\", \"16/04/20\", \"16/04/20\", \"16/04/20\", \"16/04/20\", \"16/04/20\", \"16/04/20\", \"16/04/20\", \"16/04/20\", \"16/04/20\", \"16/04/20\", \"16/04/20\", \"17/04/20\", \"17/04/20\", \"17/04/20\", \"17/04/20\", \"17/04/20\", \"17/04/20\", \"17/04/20\", \"17/04/20\", \"17/04/20\", \"17/04/20\", \"17/04/20\", \"17/04/20\", \"17/04/20\", \"17/04/20\", \"17/04/20\", \"17/04/20\", \"17/04/20\", \"17/04/20\", \"17/04/20\", \"17/04/20\", \"17/04/20\", \"17/04/20\", \"17/04/20\", \"17/04/20\", \"17/04/20\", \"17/04/20\", \"17/04/20\", \"17/04/20\", \"17/04/20\", \"17/04/20\", \"17/04/20\", \"17/04/20\", \"17/04/20\", \"18/04/20\", \"18/04/20\", \"18/04/20\", \"18/04/20\", \"18/04/20\", \"18/04/20\", \"18/04/20\", \"18/04/20\", \"18/04/20\", \"18/04/20\", \"18/04/20\", \"18/04/20\", \"18/04/20\", \"18/04/20\", \"18/04/20\", \"18/04/20\", \"18/04/20\", \"18/04/20\", \"18/04/20\", \"18/04/20\", \"18/04/20\", \"18/04/20\", \"18/04/20\", \"18/04/20\", \"18/04/20\", \"18/04/20\", \"18/04/20\", \"18/04/20\", \"18/04/20\", \"18/04/20\", \"18/04/20\", \"18/04/20\", \"18/04/20\", \"19/04/20\", \"19/04/20\", \"19/04/20\", \"19/04/20\", \"19/04/20\", \"19/04/20\", \"19/04/20\", \"19/04/20\", \"19/04/20\", \"19/04/20\", \"19/04/20\", \"19/04/20\", \"19/04/20\", \"19/04/20\", \"19/04/20\", \"19/04/20\", \"19/04/20\", \"19/04/20\", \"19/04/20\", \"19/04/20\", \"19/04/20\", \"19/04/20\", \"19/04/20\", \"19/04/20\", \"19/04/20\", \"19/04/20\", \"19/04/20\", \"19/04/20\", \"19/04/20\", \"19/04/20\", \"19/04/20\", \"19/04/20\", \"19/04/20\", \"20/04/20\", \"20/04/20\", \"20/04/20\", \"20/04/20\", \"20/04/20\", \"20/04/20\", \"20/04/20\", \"20/04/20\", \"20/04/20\", \"20/04/20\", \"20/04/20\", \"20/04/20\", \"20/04/20\", \"20/04/20\", \"20/04/20\", \"20/04/20\", \"20/04/20\", \"20/04/20\", \"20/04/20\", \"20/04/20\", \"20/04/20\", \"20/04/20\", \"20/04/20\", \"20/04/20\", \"20/04/20\", \"20/04/20\", \"20/04/20\", \"20/04/20\", \"20/04/20\", \"20/04/20\", \"20/04/20\", \"20/04/20\", \"20/04/20\", \"21/04/20\", \"21/04/20\", \"21/04/20\", \"21/04/20\", \"21/04/20\", \"21/04/20\", \"21/04/20\", \"21/04/20\", \"21/04/20\", \"21/04/20\", \"21/04/20\", \"21/04/20\", \"21/04/20\", \"21/04/20\", \"21/04/20\", \"21/04/20\", \"21/04/20\", \"21/04/20\", \"21/04/20\", \"21/04/20\", \"21/04/20\", \"21/04/20\", \"21/04/20\", \"21/04/20\", \"21/04/20\", \"21/04/20\", \"21/04/20\", \"21/04/20\", \"21/04/20\", \"21/04/20\", \"21/04/20\", \"21/04/20\", \"21/04/20\", \"22/04/20\", \"22/04/20\", \"22/04/20\", \"22/04/20\", \"22/04/20\", \"22/04/20\", \"22/04/20\", \"22/04/20\", \"22/04/20\", \"22/04/20\", \"22/04/20\", \"22/04/20\", \"22/04/20\", \"22/04/20\", \"22/04/20\", \"22/04/20\", \"22/04/20\", \"22/04/20\", \"22/04/20\", \"22/04/20\", \"22/04/20\", \"22/04/20\", \"22/04/20\", \"22/04/20\", \"22/04/20\", \"22/04/20\", \"22/04/20\", \"22/04/20\", \"22/04/20\", \"22/04/20\", \"22/04/20\", \"22/04/20\", \"23/04/20\", \"23/04/20\", \"23/04/20\", \"23/04/20\", \"23/04/20\", \"23/04/20\", \"23/04/20\", \"23/04/20\", \"23/04/20\", \"23/04/20\", \"23/04/20\", \"23/04/20\", \"23/04/20\", \"23/04/20\", \"23/04/20\", \"23/04/20\", \"23/04/20\", \"23/04/20\", \"23/04/20\", \"23/04/20\", \"23/04/20\", \"23/04/20\", \"23/04/20\", \"23/04/20\", \"23/04/20\", \"23/04/20\", \"23/04/20\", \"23/04/20\", \"23/04/20\", \"23/04/20\", \"23/04/20\", \"23/04/20\", \"24/04/20\", \"24/04/20\", \"24/04/20\", \"24/04/20\", \"24/04/20\", \"24/04/20\", \"24/04/20\", \"24/04/20\", \"24/04/20\", \"24/04/20\", \"24/04/20\", \"24/04/20\", \"24/04/20\", \"24/04/20\", \"24/04/20\", \"24/04/20\", \"24/04/20\", \"24/04/20\", \"24/04/20\", \"24/04/20\", \"24/04/20\", \"24/04/20\", \"24/04/20\", \"24/04/20\", \"24/04/20\", \"24/04/20\", \"24/04/20\", \"24/04/20\", \"24/04/20\", \"24/04/20\", \"24/04/20\", \"24/04/20\", \"25/04/20\", \"25/04/20\", \"25/04/20\", \"25/04/20\", \"25/04/20\", \"25/04/20\", \"25/04/20\", \"25/04/20\", \"25/04/20\", \"25/04/20\", \"25/04/20\", \"25/04/20\", \"25/04/20\", \"25/04/20\", \"25/04/20\", \"25/04/20\", \"25/04/20\", \"25/04/20\", \"25/04/20\", \"25/04/20\", \"25/04/20\", \"25/04/20\", \"25/04/20\", \"25/04/20\", \"25/04/20\", \"25/04/20\", \"25/04/20\", \"25/04/20\", \"25/04/20\", \"25/04/20\", \"25/04/20\", \"25/04/20\", \"26/04/20\", \"26/04/20\", \"26/04/20\", \"26/04/20\", \"26/04/20\", \"26/04/20\", \"26/04/20\", \"26/04/20\", \"26/04/20\", \"26/04/20\", \"26/04/20\", \"26/04/20\", \"26/04/20\", \"26/04/20\", \"26/04/20\", \"26/04/20\", \"26/04/20\", \"26/04/20\", \"26/04/20\", \"26/04/20\", \"26/04/20\", \"26/04/20\", \"26/04/20\", \"26/04/20\", \"26/04/20\", \"26/04/20\", \"26/04/20\", \"26/04/20\", \"26/04/20\", \"26/04/20\", \"26/04/20\", \"26/04/20\", \"27/04/20\", \"27/04/20\", \"27/04/20\", \"27/04/20\", \"27/04/20\", \"27/04/20\", \"27/04/20\", \"27/04/20\", \"27/04/20\", \"27/04/20\", \"27/04/20\", \"27/04/20\", \"27/04/20\", \"27/04/20\", \"27/04/20\", \"27/04/20\", \"27/04/20\", \"27/04/20\", \"27/04/20\", \"27/04/20\", \"27/04/20\", \"27/04/20\", \"27/04/20\", \"27/04/20\", \"27/04/20\", \"27/04/20\", \"27/04/20\", \"27/04/20\", \"27/04/20\", \"27/04/20\", \"27/04/20\", \"27/04/20\", \"28/04/20\", \"28/04/20\", \"28/04/20\", \"28/04/20\", \"28/04/20\", \"28/04/20\", \"28/04/20\", \"28/04/20\", \"28/04/20\", \"28/04/20\", \"28/04/20\", \"28/04/20\", \"28/04/20\", \"28/04/20\", \"28/04/20\", \"28/04/20\", \"28/04/20\", \"28/04/20\", \"28/04/20\", \"28/04/20\", \"28/04/20\", \"28/04/20\", \"28/04/20\", \"28/04/20\", \"28/04/20\", \"28/04/20\", \"28/04/20\", \"28/04/20\", \"28/04/20\", \"28/04/20\", \"28/04/20\", \"28/04/20\", \"29/04/20\", \"29/04/20\", \"29/04/20\", \"29/04/20\", \"29/04/20\", \"29/04/20\", \"29/04/20\", \"29/04/20\", \"29/04/20\", \"29/04/20\", \"29/04/20\", \"29/04/20\", \"29/04/20\", \"29/04/20\", \"29/04/20\", \"29/04/20\", \"29/04/20\", \"29/04/20\", \"29/04/20\", \"29/04/20\", \"29/04/20\", \"29/04/20\", \"29/04/20\", \"29/04/20\", \"29/04/20\", \"29/04/20\", \"29/04/20\", \"29/04/20\", \"29/04/20\", \"29/04/20\", \"29/04/20\", \"29/04/20\", \"30/04/20\", \"30/04/20\", \"30/04/20\", \"30/04/20\", \"30/04/20\", \"30/04/20\", \"30/04/20\", \"30/04/20\", \"30/04/20\", \"30/04/20\", \"30/04/20\", \"30/04/20\", \"30/04/20\", \"30/04/20\", \"30/04/20\", \"30/04/20\", \"30/04/20\", \"30/04/20\", \"30/04/20\", \"30/04/20\", \"30/04/20\", \"30/04/20\", \"30/04/20\", \"30/04/20\", \"30/04/20\", \"30/04/20\", \"30/04/20\", \"30/04/20\", \"30/04/20\", \"30/04/20\", \"30/04/20\", \"30/04/20\", \"01/05/20\", \"01/05/20\", \"01/05/20\", \"01/05/20\", \"01/05/20\", \"01/05/20\", \"01/05/20\", \"01/05/20\", \"01/05/20\", \"01/05/20\", \"01/05/20\", \"01/05/20\", \"01/05/20\", \"01/05/20\", \"01/05/20\", \"01/05/20\", \"01/05/20\", \"01/05/20\", \"01/05/20\", \"01/05/20\", \"01/05/20\", \"01/05/20\", \"01/05/20\", \"01/05/20\", \"01/05/20\", \"01/05/20\", \"01/05/20\", \"01/05/20\", \"01/05/20\", \"01/05/20\", \"01/05/20\", \"01/05/20\", \"02/05/20\", \"02/05/20\", \"02/05/20\", \"02/05/20\", \"02/05/20\", \"02/05/20\", \"02/05/20\", \"02/05/20\", \"02/05/20\", \"02/05/20\", \"02/05/20\", \"02/05/20\", \"02/05/20\", \"02/05/20\", \"02/05/20\", \"02/05/20\", \"02/05/20\", \"02/05/20\", \"02/05/20\", \"02/05/20\", \"02/05/20\", \"02/05/20\", \"02/05/20\", \"02/05/20\", \"02/05/20\", \"02/05/20\", \"02/05/20\", \"02/05/20\", \"02/05/20\", \"02/05/20\", \"02/05/20\", \"02/05/20\", \"03/05/20\", \"03/05/20\", \"03/05/20\", \"03/05/20\", \"03/05/20\", \"03/05/20\", \"03/05/20\", \"03/05/20\", \"03/05/20\", \"03/05/20\", \"03/05/20\", \"03/05/20\", \"03/05/20\", \"03/05/20\", \"03/05/20\", \"03/05/20\", \"03/05/20\", \"03/05/20\", \"03/05/20\", \"03/05/20\", \"03/05/20\", \"03/05/20\", \"03/05/20\", \"03/05/20\", \"03/05/20\", \"03/05/20\", \"03/05/20\", \"03/05/20\", \"03/05/20\", \"03/05/20\", \"03/05/20\", \"03/05/20\", \"04/05/20\", \"04/05/20\", \"04/05/20\", \"04/05/20\", \"04/05/20\", \"04/05/20\", \"04/05/20\", \"04/05/20\", \"04/05/20\", \"04/05/20\", \"04/05/20\", \"04/05/20\", \"04/05/20\", \"04/05/20\", \"04/05/20\", \"04/05/20\", \"04/05/20\", \"04/05/20\", \"04/05/20\", \"04/05/20\", \"04/05/20\", \"04/05/20\", \"04/05/20\", \"04/05/20\", \"04/05/20\", \"04/05/20\", \"04/05/20\", \"04/05/20\", \"04/05/20\", \"04/05/20\", \"04/05/20\", \"04/05/20\", \"05/05/20\", \"05/05/20\", \"05/05/20\", \"05/05/20\", \"05/05/20\", \"05/05/20\", \"05/05/20\", \"05/05/20\", \"05/05/20\", \"05/05/20\", \"05/05/20\", \"05/05/20\", \"05/05/20\", \"05/05/20\", \"05/05/20\", \"05/05/20\", \"05/05/20\", \"05/05/20\", \"05/05/20\", \"05/05/20\", \"05/05/20\", \"05/05/20\", \"05/05/20\", \"05/05/20\", \"05/05/20\", \"05/05/20\", \"05/05/20\", \"05/05/20\", \"05/05/20\", \"05/05/20\", \"05/05/20\", \"05/05/20\", \"06/05/20\", \"06/05/20\", \"06/05/20\", \"06/05/20\", \"06/05/20\", \"06/05/20\", \"06/05/20\", \"06/05/20\", \"06/05/20\", \"06/05/20\", \"06/05/20\", \"06/05/20\", \"06/05/20\", \"06/05/20\", \"06/05/20\", \"06/05/20\", \"06/05/20\", \"06/05/20\", \"06/05/20\", \"06/05/20\", \"06/05/20\", \"06/05/20\", \"06/05/20\", \"06/05/20\", \"06/05/20\", \"06/05/20\", \"06/05/20\", \"06/05/20\", \"06/05/20\", \"06/05/20\", \"06/05/20\", \"06/05/20\", \"06/05/20\", \"07/05/20\", \"07/05/20\", \"07/05/20\", \"07/05/20\", \"07/05/20\", \"07/05/20\", \"07/05/20\", \"07/05/20\", \"07/05/20\", \"07/05/20\", \"07/05/20\", \"07/05/20\", \"07/05/20\", \"07/05/20\", \"07/05/20\", \"07/05/20\", \"07/05/20\", \"07/05/20\", \"07/05/20\", \"07/05/20\", \"07/05/20\", \"07/05/20\", \"07/05/20\", \"07/05/20\", \"07/05/20\", \"07/05/20\", \"07/05/20\", \"07/05/20\", \"07/05/20\", \"07/05/20\", \"07/05/20\", \"07/05/20\", \"07/05/20\", \"08/05/20\", \"08/05/20\", \"08/05/20\", \"08/05/20\", \"08/05/20\", \"08/05/20\", \"08/05/20\", \"08/05/20\", \"08/05/20\", \"08/05/20\", \"08/05/20\", \"08/05/20\", \"08/05/20\", \"08/05/20\", \"08/05/20\", \"08/05/20\", \"08/05/20\", \"08/05/20\", \"08/05/20\", \"08/05/20\", \"08/05/20\", \"08/05/20\", \"08/05/20\", \"08/05/20\", \"08/05/20\", \"08/05/20\", \"08/05/20\", \"08/05/20\", \"08/05/20\", \"08/05/20\", \"08/05/20\", \"08/05/20\", \"08/05/20\", \"09/05/20\", \"09/05/20\", \"09/05/20\", \"09/05/20\", \"09/05/20\", \"09/05/20\", \"09/05/20\", \"09/05/20\", \"09/05/20\", \"09/05/20\", \"09/05/20\", \"09/05/20\", \"09/05/20\", \"09/05/20\", \"09/05/20\", \"09/05/20\", \"09/05/20\", \"09/05/20\", \"09/05/20\", \"09/05/20\", \"09/05/20\", \"09/05/20\", \"09/05/20\", \"09/05/20\", \"09/05/20\", \"09/05/20\", \"09/05/20\", \"09/05/20\", \"09/05/20\", \"09/05/20\", \"09/05/20\", \"09/05/20\", \"09/05/20\", \"10/05/20\", \"10/05/20\", \"10/05/20\", \"10/05/20\", \"10/05/20\", \"10/05/20\", \"10/05/20\", \"10/05/20\", \"10/05/20\", \"10/05/20\", \"10/05/20\", \"10/05/20\", \"10/05/20\", \"10/05/20\", \"10/05/20\", \"10/05/20\", \"10/05/20\", \"10/05/20\", \"10/05/20\", \"10/05/20\", \"10/05/20\", \"10/05/20\", \"10/05/20\", \"10/05/20\", \"10/05/20\", \"10/05/20\", \"10/05/20\", \"10/05/20\", \"10/05/20\", \"10/05/20\", \"10/05/20\", \"10/05/20\", \"10/05/20\", \"11/05/20\", \"11/05/20\", \"11/05/20\", \"11/05/20\", \"11/05/20\", \"11/05/20\", \"11/05/20\", \"11/05/20\", \"11/05/20\", \"11/05/20\", \"11/05/20\", \"11/05/20\", \"11/05/20\", \"11/05/20\", \"11/05/20\", \"11/05/20\", \"11/05/20\", \"11/05/20\", \"11/05/20\", \"11/05/20\", \"11/05/20\", \"11/05/20\", \"11/05/20\", \"11/05/20\", \"11/05/20\", \"11/05/20\", \"11/05/20\", \"11/05/20\", \"11/05/20\", \"11/05/20\", \"11/05/20\", \"11/05/20\", \"11/05/20\", \"12/05/20\", \"12/05/20\", \"12/05/20\", \"12/05/20\", \"12/05/20\", \"12/05/20\", \"12/05/20\", \"12/05/20\", \"12/05/20\", \"12/05/20\", \"12/05/20\", \"12/05/20\", \"12/05/20\", \"12/05/20\", \"12/05/20\", \"12/05/20\", \"12/05/20\", \"12/05/20\", \"12/05/20\", \"12/05/20\", \"12/05/20\", \"12/05/20\", \"12/05/20\", \"12/05/20\", \"12/05/20\", \"12/05/20\", \"12/05/20\", \"12/05/20\", \"12/05/20\", \"12/05/20\", \"12/05/20\", \"12/05/20\", \"12/05/20\", \"13/05/20\", \"13/05/20\", \"13/05/20\", \"13/05/20\", \"13/05/20\", \"13/05/20\", \"13/05/20\", \"13/05/20\", \"13/05/20\", \"13/05/20\", \"13/05/20\", \"13/05/20\", \"13/05/20\", \"13/05/20\", \"13/05/20\", \"13/05/20\", \"13/05/20\", \"13/05/20\", \"13/05/20\", \"13/05/20\", \"13/05/20\", \"13/05/20\", \"13/05/20\", \"13/05/20\", \"13/05/20\", \"13/05/20\", \"13/05/20\", \"13/05/20\", \"13/05/20\", \"13/05/20\", \"13/05/20\", \"13/05/20\", \"13/05/20\", \"14/05/20\", \"14/05/20\", \"14/05/20\", \"14/05/20\", \"14/05/20\", \"14/05/20\", \"14/05/20\", \"14/05/20\", \"14/05/20\", \"14/05/20\", \"14/05/20\", \"14/05/20\", \"14/05/20\", \"14/05/20\", \"14/05/20\", \"14/05/20\", \"14/05/20\", \"14/05/20\", \"14/05/20\", \"14/05/20\", \"14/05/20\", \"14/05/20\", \"14/05/20\", \"14/05/20\", \"14/05/20\", \"14/05/20\", \"14/05/20\", \"14/05/20\", \"14/05/20\", \"14/05/20\", \"14/05/20\", \"14/05/20\", \"14/05/20\", \"15/05/20\", \"15/05/20\", \"15/05/20\", \"15/05/20\", \"15/05/20\", \"15/05/20\", \"15/05/20\", \"15/05/20\", \"15/05/20\", \"15/05/20\", \"15/05/20\", \"15/05/20\", \"15/05/20\", \"15/05/20\", \"15/05/20\", \"15/05/20\", \"15/05/20\", \"15/05/20\", \"15/05/20\", \"15/05/20\", \"15/05/20\", \"15/05/20\", \"15/05/20\", \"15/05/20\", \"15/05/20\", \"15/05/20\", \"15/05/20\", \"15/05/20\", \"15/05/20\", \"15/05/20\", \"15/05/20\", \"15/05/20\", \"15/05/20\", \"16/05/20\", \"16/05/20\", \"16/05/20\", \"16/05/20\", \"16/05/20\", \"16/05/20\", \"16/05/20\", \"16/05/20\", \"16/05/20\", \"16/05/20\", \"16/05/20\", \"16/05/20\", \"16/05/20\", \"16/05/20\", \"16/05/20\", \"16/05/20\", \"16/05/20\", \"16/05/20\", \"16/05/20\", \"16/05/20\", \"16/05/20\", \"16/05/20\", \"16/05/20\", \"16/05/20\", \"16/05/20\", \"16/05/20\", \"16/05/20\", \"16/05/20\", \"16/05/20\", \"16/05/20\", \"16/05/20\", \"16/05/20\", \"16/05/20\", \"17/05/20\", \"17/05/20\", \"17/05/20\", \"17/05/20\", \"17/05/20\", \"17/05/20\", \"17/05/20\", \"17/05/20\", \"17/05/20\", \"17/05/20\", \"17/05/20\", \"17/05/20\", \"17/05/20\", \"17/05/20\", \"17/05/20\", \"17/05/20\", \"17/05/20\", \"17/05/20\", \"17/05/20\", \"17/05/20\", \"17/05/20\", \"17/05/20\", \"17/05/20\", \"17/05/20\", \"17/05/20\", \"17/05/20\", \"17/05/20\", \"17/05/20\", \"17/05/20\", \"17/05/20\", \"17/05/20\", \"17/05/20\", \"17/05/20\", \"18/05/20\", \"18/05/20\", \"18/05/20\", \"18/05/20\", \"18/05/20\", \"18/05/20\", \"18/05/20\", \"18/05/20\", \"18/05/20\", \"18/05/20\", \"18/05/20\", \"18/05/20\", \"18/05/20\", \"18/05/20\", \"18/05/20\", \"18/05/20\", \"18/05/20\", \"18/05/20\", \"18/05/20\", \"18/05/20\", \"18/05/20\", \"18/05/20\", \"18/05/20\", \"18/05/20\", \"18/05/20\", \"18/05/20\", \"18/05/20\", \"18/05/20\", \"18/05/20\", \"18/05/20\", \"18/05/20\", \"18/05/20\", \"18/05/20\", \"19/05/20\", \"19/05/20\", \"19/05/20\", \"19/05/20\", \"19/05/20\", \"19/05/20\", \"19/05/20\", \"19/05/20\", \"19/05/20\", \"19/05/20\", \"19/05/20\", \"19/05/20\", \"19/05/20\", \"19/05/20\", \"19/05/20\", \"19/05/20\", \"19/05/20\", \"19/05/20\", \"19/05/20\", \"19/05/20\", \"19/05/20\", \"19/05/20\", \"19/05/20\", \"19/05/20\", \"19/05/20\", \"19/05/20\", \"19/05/20\", \"19/05/20\", \"19/05/20\", \"19/05/20\", \"19/05/20\", \"19/05/20\", \"19/05/20\", \"20/05/20\", \"20/05/20\", \"20/05/20\", \"20/05/20\", \"20/05/20\", \"20/05/20\", \"20/05/20\", \"20/05/20\", \"20/05/20\", \"20/05/20\", \"20/05/20\", \"20/05/20\", \"20/05/20\", \"20/05/20\", \"20/05/20\", \"20/05/20\", \"20/05/20\", \"20/05/20\", \"20/05/20\", \"20/05/20\", \"20/05/20\", \"20/05/20\", \"20/05/20\", \"20/05/20\", \"20/05/20\", \"20/05/20\", \"20/05/20\", \"20/05/20\", \"20/05/20\", \"20/05/20\", \"20/05/20\", \"20/05/20\", \"20/05/20\", \"20/05/20\", \"21/05/20\", \"21/05/20\", \"21/05/20\", \"21/05/20\", \"21/05/20\", \"21/05/20\", \"21/05/20\", \"21/05/20\", \"21/05/20\", \"21/05/20\", \"21/05/20\", \"21/05/20\", \"21/05/20\", \"21/05/20\", \"21/05/20\", \"21/05/20\", \"21/05/20\", \"21/05/20\", \"21/05/20\", \"21/05/20\", \"21/05/20\", \"21/05/20\", \"21/05/20\", \"21/05/20\", \"21/05/20\", \"21/05/20\", \"21/05/20\", \"21/05/20\", \"21/05/20\", \"21/05/20\", \"21/05/20\", \"21/05/20\", \"21/05/20\", \"21/05/20\", \"22/05/20\", \"22/05/20\", \"22/05/20\", \"22/05/20\", \"22/05/20\", \"22/05/20\", \"22/05/20\", \"22/05/20\", \"22/05/20\", \"22/05/20\", \"22/05/20\", \"22/05/20\", \"22/05/20\", \"22/05/20\", \"22/05/20\", \"22/05/20\", \"22/05/20\", \"22/05/20\", \"22/05/20\", \"22/05/20\", \"22/05/20\", \"22/05/20\", \"22/05/20\", \"22/05/20\", \"22/05/20\", \"22/05/20\", \"22/05/20\", \"22/05/20\", \"22/05/20\", \"22/05/20\", \"22/05/20\", \"22/05/20\", \"22/05/20\", \"22/05/20\", \"23/05/20\", \"23/05/20\", \"23/05/20\", \"23/05/20\", \"23/05/20\", \"23/05/20\", \"23/05/20\", \"23/05/20\", \"23/05/20\", \"23/05/20\", \"23/05/20\", \"23/05/20\", \"23/05/20\", \"23/05/20\", \"23/05/20\", \"23/05/20\", \"23/05/20\", \"23/05/20\", \"23/05/20\", \"23/05/20\", \"23/05/20\", \"23/05/20\", \"23/05/20\", \"23/05/20\", \"23/05/20\", \"23/05/20\", \"23/05/20\", \"23/05/20\", \"23/05/20\", \"23/05/20\", \"23/05/20\", \"23/05/20\", \"23/05/20\", \"23/05/20\", \"24/05/20\", \"24/05/20\", \"24/05/20\", \"24/05/20\", \"24/05/20\", \"24/05/20\", \"24/05/20\", \"24/05/20\", \"24/05/20\", \"24/05/20\", \"24/05/20\", \"24/05/20\", \"24/05/20\", \"24/05/20\", \"24/05/20\", \"24/05/20\", \"24/05/20\", \"24/05/20\", \"24/05/20\", \"24/05/20\", \"24/05/20\", \"24/05/20\", \"24/05/20\", \"24/05/20\", \"24/05/20\", \"24/05/20\", \"24/05/20\", \"24/05/20\", \"24/05/20\", \"24/05/20\", \"24/05/20\", \"24/05/20\", \"24/05/20\", \"24/05/20\", \"24/05/20\", \"25/05/20\", \"25/05/20\", \"25/05/20\", \"25/05/20\", \"25/05/20\", \"25/05/20\", \"25/05/20\", \"25/05/20\", \"25/05/20\", \"25/05/20\", \"25/05/20\", \"25/05/20\", \"25/05/20\", \"25/05/20\", \"25/05/20\", \"25/05/20\", \"25/05/20\", \"25/05/20\", \"25/05/20\", \"25/05/20\", \"25/05/20\", \"25/05/20\", \"25/05/20\", \"25/05/20\", \"25/05/20\", \"25/05/20\", \"25/05/20\", \"25/05/20\", \"25/05/20\", \"25/05/20\", \"25/05/20\", \"25/05/20\", \"25/05/20\", \"25/05/20\", \"25/05/20\", \"26/05/20\", \"26/05/20\", \"26/05/20\", \"26/05/20\", \"26/05/20\", \"26/05/20\", \"26/05/20\", \"26/05/20\", \"26/05/20\", \"26/05/20\", \"26/05/20\", \"26/05/20\", \"26/05/20\", \"26/05/20\", \"26/05/20\", \"26/05/20\", \"26/05/20\", \"26/05/20\", \"26/05/20\", \"26/05/20\", \"26/05/20\", \"26/05/20\", \"26/05/20\", \"26/05/20\", \"26/05/20\", \"26/05/20\", \"26/05/20\", \"26/05/20\", \"26/05/20\", \"26/05/20\", \"26/05/20\", \"26/05/20\", \"26/05/20\", \"26/05/20\", \"26/05/20\", \"26/05/20\", \"27/05/20\", \"27/05/20\", \"27/05/20\", \"27/05/20\", \"27/05/20\", \"27/05/20\", \"27/05/20\", \"27/05/20\", \"27/05/20\", \"27/05/20\", \"27/05/20\", \"27/05/20\", \"27/05/20\", \"27/05/20\", \"27/05/20\", \"27/05/20\", \"27/05/20\", \"27/05/20\", \"27/05/20\", \"27/05/20\", \"27/05/20\", \"27/05/20\", \"27/05/20\", \"27/05/20\", \"27/05/20\", \"27/05/20\", \"27/05/20\", \"27/05/20\", \"27/05/20\", \"27/05/20\", \"27/05/20\", \"27/05/20\", \"27/05/20\", \"27/05/20\", \"27/05/20\", \"27/05/20\", \"28/05/20\", \"28/05/20\", \"28/05/20\", \"28/05/20\", \"28/05/20\", \"28/05/20\", \"28/05/20\", \"28/05/20\", \"28/05/20\", \"28/05/20\", \"28/05/20\", \"28/05/20\", \"28/05/20\", \"28/05/20\", \"28/05/20\", \"28/05/20\", \"28/05/20\", \"28/05/20\", \"28/05/20\", \"28/05/20\", \"28/05/20\", \"28/05/20\", \"28/05/20\", \"28/05/20\", \"28/05/20\", \"28/05/20\", \"28/05/20\", \"28/05/20\", \"28/05/20\", \"28/05/20\", \"28/05/20\", \"28/05/20\", \"28/05/20\", \"28/05/20\", \"28/05/20\", \"28/05/20\", \"29/05/20\", \"29/05/20\", \"29/05/20\", \"29/05/20\", \"29/05/20\", \"29/05/20\", \"29/05/20\", \"29/05/20\", \"29/05/20\", \"29/05/20\", \"29/05/20\", \"29/05/20\", \"29/05/20\", \"29/05/20\", \"29/05/20\", \"29/05/20\", \"29/05/20\", \"29/05/20\", \"29/05/20\", \"29/05/20\", \"29/05/20\", \"29/05/20\", \"29/05/20\", \"29/05/20\", \"29/05/20\", \"29/05/20\", \"29/05/20\", \"29/05/20\", \"29/05/20\", \"29/05/20\", \"29/05/20\", \"29/05/20\", \"29/05/20\", \"29/05/20\", \"29/05/20\", \"29/05/20\", \"30/05/20\", \"30/05/20\", \"30/05/20\", \"30/05/20\", \"30/05/20\", \"30/05/20\", \"30/05/20\", \"30/05/20\", \"30/05/20\", \"30/05/20\", \"30/05/20\", \"30/05/20\", \"30/05/20\", \"30/05/20\", \"30/05/20\", \"30/05/20\", \"30/05/20\", \"30/05/20\", \"30/05/20\", \"30/05/20\", \"30/05/20\", \"30/05/20\", \"30/05/20\", \"30/05/20\", \"30/05/20\", \"30/05/20\", \"30/05/20\", \"30/05/20\", \"30/05/20\", \"30/05/20\", \"30/05/20\", \"30/05/20\", \"30/05/20\", \"30/05/20\", \"30/05/20\", \"30/05/20\", \"31/05/20\", \"31/05/20\", \"31/05/20\", \"31/05/20\", \"31/05/20\", \"31/05/20\", \"31/05/20\", \"31/05/20\", \"31/05/20\", \"31/05/20\", \"31/05/20\", \"31/05/20\", \"31/05/20\", \"31/05/20\", \"31/05/20\", \"31/05/20\", \"31/05/20\", \"31/05/20\", \"31/05/20\", \"31/05/20\", \"31/05/20\", \"31/05/20\", \"31/05/20\", \"31/05/20\", \"31/05/20\", \"31/05/20\", \"31/05/20\", \"31/05/20\", \"31/05/20\", \"31/05/20\", \"31/05/20\", \"31/05/20\", \"31/05/20\", \"31/05/20\", \"31/05/20\", \"31/05/20\", \"01/06/20\", \"01/06/20\", \"01/06/20\", \"01/06/20\", \"01/06/20\", \"01/06/20\", \"01/06/20\", \"01/06/20\", \"01/06/20\", \"01/06/20\", \"01/06/20\", \"01/06/20\", \"01/06/20\", \"01/06/20\", \"01/06/20\", \"01/06/20\", \"01/06/20\", \"01/06/20\", \"01/06/20\", \"01/06/20\", \"01/06/20\", \"01/06/20\", \"01/06/20\", \"01/06/20\", \"01/06/20\", \"01/06/20\", \"01/06/20\", \"01/06/20\", \"01/06/20\", \"01/06/20\", \"01/06/20\", \"01/06/20\", \"01/06/20\", \"01/06/20\", \"01/06/20\", \"01/06/20\", \"02/06/20\", \"02/06/20\", \"02/06/20\", \"02/06/20\", \"02/06/20\", \"02/06/20\", \"02/06/20\", \"02/06/20\", \"02/06/20\", \"02/06/20\", \"02/06/20\", \"02/06/20\", \"02/06/20\", \"02/06/20\", \"02/06/20\", \"02/06/20\", \"02/06/20\", \"02/06/20\", \"02/06/20\", \"02/06/20\", \"02/06/20\", \"02/06/20\", \"02/06/20\", \"02/06/20\", \"02/06/20\", \"02/06/20\", \"02/06/20\", \"02/06/20\", \"02/06/20\", \"02/06/20\", \"02/06/20\", \"02/06/20\", \"02/06/20\", \"02/06/20\", \"02/06/20\", \"02/06/20\", \"03/06/20\", \"03/06/20\", \"03/06/20\", \"03/06/20\", \"03/06/20\", \"03/06/20\", \"03/06/20\", \"03/06/20\", \"03/06/20\", \"03/06/20\", \"03/06/20\", \"03/06/20\", \"03/06/20\", \"03/06/20\", \"03/06/20\", \"03/06/20\", \"03/06/20\", \"03/06/20\", \"03/06/20\", \"03/06/20\", \"03/06/20\", \"03/06/20\", \"03/06/20\", \"03/06/20\", \"03/06/20\", \"03/06/20\", \"03/06/20\", \"03/06/20\", \"03/06/20\", \"03/06/20\", \"03/06/20\", \"03/06/20\", \"03/06/20\", \"03/06/20\", \"03/06/20\", \"03/06/20\", \"04/06/20\", \"04/06/20\", \"04/06/20\", \"04/06/20\", \"04/06/20\", \"04/06/20\", \"04/06/20\", \"04/06/20\", \"04/06/20\", \"04/06/20\", \"04/06/20\", \"04/06/20\", \"04/06/20\", \"04/06/20\", \"04/06/20\", \"04/06/20\", \"04/06/20\", \"04/06/20\", \"04/06/20\", \"04/06/20\", \"04/06/20\", \"04/06/20\", \"04/06/20\", \"04/06/20\", \"04/06/20\", \"04/06/20\", \"04/06/20\", \"04/06/20\", \"04/06/20\", \"04/06/20\", \"04/06/20\", \"04/06/20\", \"04/06/20\", \"04/06/20\", \"04/06/20\", \"04/06/20\", \"05/06/20\", \"05/06/20\", \"05/06/20\", \"05/06/20\", \"05/06/20\", \"05/06/20\", \"05/06/20\", \"05/06/20\", \"05/06/20\", \"05/06/20\", \"05/06/20\", \"05/06/20\", \"05/06/20\", \"05/06/20\", \"05/06/20\", \"05/06/20\", \"05/06/20\", \"05/06/20\", \"05/06/20\", \"05/06/20\", \"05/06/20\", \"05/06/20\", \"05/06/20\", \"05/06/20\", \"05/06/20\", \"05/06/20\", \"05/06/20\", \"05/06/20\", \"05/06/20\", \"05/06/20\", \"05/06/20\", \"05/06/20\", \"05/06/20\", \"05/06/20\", \"05/06/20\", \"05/06/20\", \"06/06/20\", \"06/06/20\", \"06/06/20\", \"06/06/20\", \"06/06/20\", \"06/06/20\", \"06/06/20\", \"06/06/20\", \"06/06/20\", \"06/06/20\", \"06/06/20\", \"06/06/20\", \"06/06/20\", \"06/06/20\", \"06/06/20\", \"06/06/20\", \"06/06/20\", \"06/06/20\", \"06/06/20\", \"06/06/20\", \"06/06/20\", \"06/06/20\", \"06/06/20\", \"06/06/20\", \"06/06/20\", \"06/06/20\", \"06/06/20\", \"06/06/20\", \"06/06/20\", \"06/06/20\", \"06/06/20\", \"06/06/20\", \"06/06/20\", \"06/06/20\", \"06/06/20\", \"06/06/20\", \"07/06/20\", \"07/06/20\", \"07/06/20\", \"07/06/20\", \"07/06/20\", \"07/06/20\", \"07/06/20\", \"07/06/20\", \"07/06/20\", \"07/06/20\", \"07/06/20\", \"07/06/20\", \"07/06/20\", \"07/06/20\", \"07/06/20\", \"07/06/20\", \"07/06/20\", \"07/06/20\", \"07/06/20\", \"07/06/20\", \"07/06/20\", \"07/06/20\", \"07/06/20\", \"07/06/20\", \"07/06/20\", \"07/06/20\", \"07/06/20\", \"07/06/20\", \"07/06/20\", \"07/06/20\", \"07/06/20\", \"07/06/20\", \"07/06/20\", \"07/06/20\", \"07/06/20\", \"07/06/20\"], \"y\": [1, 1, 2, 3, 3, 3, 3, 3, 3, 3, 3, 3, 3, 3, 3, 3, 3, 3, 3, 3, 3, 3, 3, 3, 3, 3, 3, 3, 3, 3, 3, 3, 1, 3, 1, 1, 1, 3, 1, 6, 3, 2, 1, 1, 15, 2, 2, 3, 15, 1, 7, 3, 2, 3, 15, 7, 1, 3, 7, 2, 1, 1, 3, 2, 15, 2, 1, 1, 15, 8, 2, 3, 7, 2, 1, 9, 2, 1, 15, 1, 1, 1, 7, 2, 4, 7, 2, 4, 2, 4, 15, 5, 1, 15, 1, 1, 1, 2, 5, 14, 17, 3, 1, 9, 2, 1, 1, 1, 4, 6, 14, 17, 3, 1, 11, 3, 1, 1, 1, 4, 11, 1, 6, 14, 19, 3, 1, 11, 3, 1, 1, 1, 6, 14, 1, 7, 14, 19, 3, 1, 12, 3, 1, 2, 1, 6, 14, 1, 1, 7, 14, 6, 22, 32, 1, 4, 1, 3, 2, 3, 13, 1, 1, 7, 14, 6, 23, 32, 1, 1, 4, 1, 3, 3, 4, 13, 1, 1, 8, 15, 11, 26, 39, 1, 1, 4, 1, 5, 3, 6, 15, 1, 1, 10, 17, 11, 27, 42, 1, 1, 1, 4, 1, 6, 3, 8, 16, 1, 1, 2, 1, 12, 17, 14, 27, 47, 1, 1, 2, 7, 2, 6, 1, 4, 8, 19, 1, 1, 3, 1, 17, 5, 17, 15, 28, 52, 2, 1, 2, 17, 3, 17, 1, 4, 10, 23, 3, 2, 3, 1, 26, 7, 17, 2, 15, 40, 4, 63, 2, 1, 13, 17, 3, 21, 1, 4, 13, 24, 3, 3, 5, 2, 1, 29, 18, 21, 2, 26, 52, 4, 67, 2, 1, 21, 24, 7, 22, 5, 4, 13, 27, 3, 4, 7, 2, 1, 29, 29, 26, 2, 33, 67, 6, 74, 2, 1, 21, 28, 9, 32, 6, 4, 13, 31, 3, 7, 8, 3, 1, 30, 33, 28, 3, 37, 95, 7, 89, 1, 2, 1, 29, 32, 15, 35, 7, 4, 13, 33, 4, 9, 9, 4, 1, 31, 38, 28, 3, 41, 109, 14, 128, 1, 1, 2, 1, 29, 36, 18, 35, 7, 7, 13, 37, 4, 9, 1, 11, 6, 7, 6, 36, 3, 43, 30, 3, 13, 55, 118, 13, 20, 124, 1, 1, 2, 1, 33, 41, 26, 44, 5, 41, 10, 1, 12, 6, 7, 6, 36, 3, 43, 30, 3, 13, 55, 137, 13, 20, 130, 1, 1, 2, 1, 33, 41, 29, 45, 5, 41, 10, 14, 6, 9, 8, 6, 39, 3, 45, 33, 3, 20, 55, 176, 13, 30, 180, 1, 1, 3, 1, 38, 54, 40, 56, 5, 55, 15, 19, 9, 11, 8, 7, 49, 5, 58, 33, 3, 31, 76, 182, 13, 30, 186, 1, 1, 3, 1, 38, 55, 49, 66, 7, 65, 18, 23, 9, 15, 8, 7, 87, 5, 69, 36, 3, 48, 83, 202, 13, 47, 198, 1, 1, 3, 1, 38, 59, 67, 71, 7, 82, 22, 46, 40, 10, 15, 13, 8, 97, 5, 73, 40, 3, 54, 83, 234, 13, 47, 216, 1, 1, 3, 1, 41, 74, 74, 79, 7, 101, 26, 38, 83, 10, 1, 23, 16, 9, 152, 5, 82, 43, 3, 62, 1, 101, 241, 13, 66, 302, 1, 1, 4, 3, 42, 93, 234, 96, 7, 103, 37, 86, 10, 5, 24, 16, 9, 219, 5, 87, 43, 3, 62, 1, 110, 265, 13, 99, 335, 1, 1, 4, 3, 46, 108, 234, 107, 7, 113, 53, 132, 10, 1, 16, 29, 18, 9, 219, 6, 95, 49, 6, 75, 2, 124, 286, 14, 104, 335, 2, 1, 5, 5, 48, 167, 309, 158, 10, 172, 63, 77, 161, 10, 1, 24, 30, 18, 9, 445, 7, 105, 49, 6, 75, 2, 128, 295, 14, 104, 490, 2, 1, 5, 5, 57, 200, 411, 159, 16, 174, 69, 190, 10, 1, 26, 30, 18, 9, 503, 7, 122, 59, 6, 106, 3, 144, 306, 14, 165, 490, 2, 1, 20, 5, 57, 200, 485, 269, 22, 227, 80, 226, 10, 1, 26, 32, 18, 10, 523, 7, 144, 84, 13, 109, 4, 151, 314, 14, 165, 748, 2, 1, 21, 5, 76, 274, 571, 321, 26, 305, 80, 266, 10, 1, 26, 32, 18, 10, 576, 7, 165, 90, 13, 116, 4, 175, 327, 14, 229, 868, 2, 1, 42, 5, 91, 288, 621, 364, 1, 31, 305, 91, 305, 10, 1, 27, 38, 18, 10, 576, 7, 165, 147, 18, 116, 4, 175, 336, 14, 229, 1018, 2, 1, 42, 5, 91, 328, 690, 427, 1, 31, 343, 99, 348, 11, 1, 28, 39, 18, 10, 669, 7, 179, 169, 18, 158, 13, 181, 345, 14, 259, 1135, 2, 1, 42, 5, 101, 383, 738, 442, 1, 35, 410, 103, 363, 11, 1, 29, 60, 18, 10, 898, 7, 241, 169, 28, 184, 13, 197, 357, 15, 259, 1364, 2, 1, 44, 5, 132, 463, 834, 473, 1, 35, 431, 116, 381, 11, 1, 29, 60, 18, 18, 903, 7, 308, 177, 28, 207, 17, 214, 364, 15, 443, 1574, 2, 1, 48, 7, 132, 553, 911, 504, 2, 35, 433, 126, 381, 11, 1, 29, 64, 19, 25, 1069, 7, 432, 185, 32, 224, 17, 226, 374, 15, 564, 1761, 2, 1, 54, 7, 151, 700, 969, 504, 2, 35, 452, 134, 432, 11, 1, 31, 64, 21, 31, 1154, 7, 539, 185, 32, 245, 19, 247, 376, 15, 604, 1985, 2, 1, 1, 54, 7, 167, 812, 1075, 562, 2, 35, 483, 152, 473, 11, 1, 31, 66, 21, 31, 1510, 7, 617, 199, 32, 270, 24, 258, 379, 15, 730, 2337, 2, 1, 1, 1, 55, 7, 176, 879, 1173, 624, 2, 35, 657, 190, 11, 503, 1, 33, 70, 21, 33, 1561, 7, 695, 199, 33, 278, 27, 277, 387, 17, 987, 2687, 2, 7, 1, 0, 60, 7, 186, 1005, 1204, 647, 2, 37, 735, 213, 11, 534, 1, 33, 74, 21, 33, 1578, 7, 871, 205, 35, 300, 28, 315, 388, 17, 1120, 2919, 2, 7, 1, 0, 60, 7, 186, 1023, 1242, 698, 2, 37, 773, 231, 11, 572, 1, 35, 83, 21, 36, 1640, 7, 1021, 205, 35, 314, 29, 353, 395, 18, 1308, 3205, 2, 9, 1, 0, 60, 7, 186, 1131, 1267, 743, 2, 37, 846, 255, 12, 603, 1, 35, 85, 21, 36, 1707, 7, 1272, 225, 38, 328, 33, 371, 396, 18, 1355, 3323, 2, 11, 1, 0, 60, 7, 202, 1229, 1323, 791, 2, 42, 969, 287, 14, 603, 1, 35, 86, 23, 36, 1893, 7, 1604, 233, 39, 341, 35, 384, 400, 18, 1407, 3651, 2, 11, 1, 0, 61, 7, 219, 1351, 1372, 844, 2, 42, 1084, 310, 15, 722, 1, 35, 96, 26, 36, 2003, 7, 1851, 233, 39, 350, 42, 395, 402, 18, 1485, 4203, 2, 11, 1, 0, 68, 7, 219, 1478, 1477, 873, 2, 44, 1176, 339, 16, 757, 1, 35, 114, 26, 36, 2081, 7, 2066, 254, 39, 368, 46, 415, 408, 18, 1540, 4669, 2, 11, 1, 0, 74, 7, 245, 1576, 1520, 919, 2, 46, 1294, 392, 17, 813, 1, 35, 126, 27, 36, 2156, 7, 2272, 254, 39, 380, 45, 425, 427, 18, 1592, 5221, 2, 12, 1, 82, 7, 251, 1801, 1596, 945, 2, 46, 1412, 423, 18, 895, 1, 35, 148, 27, 36, 2248, 7, 2407, 262, 40, 407, 49, 443, 438, 18, 1695, 5652, 2, 12, 1, 83, 7, 277, 1890, 1629, 960, 2, 46, 1509, 456, 22, 955, 1, 36, 176, 27, 36, 2376, 7, 2624, 272, 40, 427, 55, 463, 448, 18, 1852, 6430, 2, 12, 1, 90, 7, 277, 1964, 1683, 984, 2, 47, 1604, 514, 27, 1061, 1, 36, 228, 28, 36, 2514, 7, 2815, 272, 40, 454, 59, 489, 451, 20, 1952, 6817, 2, 12, 1, 94, 7, 298, 2034, 1755, 984, 2, 48, 1778, 571, 33, 1097, 1, 36, 251, 30, 37, 2625, 7, 3071, 289, 40, 494, 67, 501, 458, 20, 2096, 7628, 2, 12, 1, 103, 7, 298, 2083, 1821, 991, 2, 50, 1843, 611, 33, 1177, 1, 36, 277, 30, 37, 2918, 7, 3301, 289, 40, 523, 82, 511, 469, 20, 2168, 8068, 2, 12, 1, 108, 8, 313, 2185, 1885, 1002, 2, 51, 1955, 649, 33, 1259, 1, 38, 346, 40, 37, 3108, 7, 3548, 296, 40, 546, 103, 520, 482, 22, 2368, 8590, 2, 12, 1, 118, 8, 313, 2262, 1937, 1004, 2, 51, 2043, 697, 33, 1332, 1, 38, 383, 56, 38, 3314, 7, 3774, 310, 40, 565, 105, 532, 486, 22, 2561, 9318, 2, 12, 1, 119, 8, 322, 2364, 2058, 1012, 2, 54, 2115, 725, 33, 1403, 1, 42, 403, 56, 38, 3439, 7, 4082, 310, 40, 581, 107, 557, 496, 22, 2660, 9915, 2, 12, 1, 128, 8, 357, 2438, 2162, 1012, 2, 55, 2203, 758, 33, 1463, 1, 42, 426, 56, 40, 3515, 7, 4395, 313, 40, 614, 111, 576, 497, 22, 2719, 10498, 2, 12, 1, 143, 8, 357, 2584, 2323, 1039, 2, 57, 2281, 795, 33, 1463, 1, 43, 471, 88, 43, 3738, 7, 4721, 360, 40, 639, 111, 589, 497, 22, 2719, 11506, 2, 12, 1, 149, 8, 480, 2666, 2526, 1039, 2, 58, 2328, 795, 33, 1583, 1, 43, 482, 94, 43, 4122, 7, 5055, 394, 40, 666, 115, 606, 500, 40, 2846, 12296, 2, 12, 1, 160, 8, 772, 2772, 2757, 1063, 4, 59, 2626, 922, 33, 1650, 1, 43, 517, 94, 57, 4549, 7, 5428, 442, 40, 701, 115, 642, 500, 41, 2942, 12974, 2, 12, 1, 163, 8, 1102, 2886, 3023, 1082, 16, 60, 2742, 963, 33, 1717, 1, 43, 529, 102, 58, 4898, 7, 5804, 517, 41, 726, 115, 659, 500, 41, 3049, 14541, 2, 12, 1, 170, 9, 1233, 3061, 3550, 1085, 29, 60, 2859, 1259, 33, 1717, 1, 43, 536, 111, 59, 1, 5104, 7, 6245, 548, 42, 741, 125, 671, 502, 41, 3049, 15525, 2, 12, 1, 175, 9, 1451, 3158, 4058, 1096, 43, 61, 2880, 1344, 33, 1777, 1, 45, 542, 120, 59, 1, 5532, 7, 6625, 594, 45, 775, 127, 693, 503, 41, 3138, 16758, 2, 12, 1, 185, 9, 1516, 3317, 4829, 1107, 43, 61, 2998, 1456, 33, 1847, 1, 54, 550, 135, 59, 1, 5980, 7, 7012, 625, 46, 793, 132, 705, 503, 42, 3252, 17974, 2, 12, 1, 219, 9, 1644, 3427, 5409, 1123, 65, 61, 3071, 1548, 33, 1887, 1, 59, 571, 150, 59, 1, 6318, 7, 7402, 647, 50, 823, 132, 753, 503, 42, 3341, 19063, 2, 12, 1, 271, 9, 1731, 3579, 6009, 1133, 118, 63, 3214, 1678, 33, 1930, 1, 63, 591, 169, 59, 1, 6542, 7, 7796, 675, 50, 836, 156, 794, 505, 42, 3614, 20228, 2, 13, 1, 294, 9, 1762, 3708, 6535, 1163, 134, 67, 3373, 1786, 33, 1980, 1, 63, 696, 169, 59, 1, 6923, 7, 8194, 703, 55, 861, 157, 848, 512, 42, 3614, 22171, 2, 13, 1, 377, 9, 1823, 3814, 7204, 1196, 150, 68, 3467, 1939, 33, 2018, 1, 65, 747, 174, 59, 1, 7233, 7, 8541, 730, 59, 879, 160, 862, 519, 42, 3785, 23401, 2, 13, 1, 414, 12, 1877, 3988, 8002, 1275, 152, 68, 3573, 2063, 33, 2090, 1, 65, 831, 187, 59, 1, 7639, 7, 8903, 780, 65, 934, 172, 925, 524, 42, 3986, 24427, 2, 13, 1, 437, 13, 1914, 4126, 8718, 1326, 154, 69, 3664, 2173, 33, 2137, 1, 80, 940, 187, 59, 1, 7998, 7, 9267, 793, 66, 971, 173, 959, 534, 43, 4173, 25922, 2, 13, 1, 538, 13, 1924, 4328, 9227, 1367, 155, 72, 3729, 2290, 33, 2205, 1, 87, 994, 191, 60, 1, 8470, 14, 9591, 818, 74, 983, 197, 987, 560, 43, 4426, 27524, 3, 13, 1, 611, 13, 1935, 4534, 9674, 1414, 156, 78, 3902, 2377, 33, 2307, 1, 90, 1018, 191, 66, 1, 8895, 15, 9931, 818, 76, 1013, 203, 1056, 576, 43, 4595, 29100, 3, 13, 1, 672, 13, 1935, 4727, 10108, 1454, 156, 82, 4057, 2461, 33, 2355, 1, 92, 1179, 191, 67, 1, 9333, 17, 10988, 887, 78, 1121, 217, 1092, 587, 43, 4789, 30706, 7, 13, 1, 737, 13, 1946, 4960, 10585, 1509, 167, 88, 4258, 2576, 33, 2407, 1, 101, 1262, 191, 86, 1, 10054, 29, 11379, 910, 80, 1183, 223, 1147, 601, 43, 4977, 33053, 7, 13, 1, 828, 13, 1964, 5202, 11224, 1551, 167, 92, 4259, 2677, 33, 2474, 1, 107, 1391, 196, 93, 1, 10054, 38, 11745, 928, 90, 1289, 223, 1246, 630, 43, 5236, 35058, 7, 13, 1, 876, 18, 1980, 5507, 11760, 1597, 167, 93, 4605, 2825, 33, 2532, 1, 142, 1498, 200, 101, 1, 10554, 46, 12140, 964, 92, 1317, 231, 1397, 642, 43, 5465, 37136, 9, 13, 1, 978, 18, 2002, 5845, 12448, 1634, 173, 111, 4926, 2961, 1096, 33, 2602, 1, 170, 1674, 202, 115, 1, 11088, 50, 12537, 993, 110, 1390, 231, 1462, 666, 44, 5735, 39297, 25, 14, 1, 1052, 18, 2005, 6015, 13191, 1661, 173, 122, 5175, 3103, 1403, 33, 2647, 1, 203, 1982, 217, 128, 1, 11659, 52, 12905, 1031, 152, 1449, 290, 1605, 690, 44, 5981, 41642, 25, 14, 1, 1103, 20, 2028, 6227, 13967, 1699, 173, 146, 5515, 3197, 1620, 33, 2709, 1, 259, 2177, 218, 172, 1, 12319, 54, 13268, 1067, 168, 1489, 308, 1743, 732, 44, 6170, 44582, 26, 14, 1, 1189, 26, 2029, 6494, 14753, 1761, 175, 153, 5735, 3332, 1899, 33, 2757, 1, 329, 2380, 225, 214, 2, 12910, 55, 13664, 1131, 185, 1569, 350, 1959, 795, 49, 6371, 47190, 29, 14, 1, 1269, 26, 2045, 6742, 1, 15512, 1813, 189, 244, 6017, 3459, 2338, 33, 2823, 1, 378, 2587, 238, 252, 2, 13418, 66, 14056, 1184, 203, 1621, 370, 2089, 847, 52, 6665, 50231, 32, 14, 1, 1336, 41, 2060, 7028, 1, 16277, 1854, 191, 317, 6268, 3667, 2642, 33, 3110, 2, 526, 2730, 238, 291, 2, 14053, 67, 14460, 1184, 223, 1668, 377, 2182, 896, 52, 6859, 52667, 39, 14, 1, 3, 1438, 41, 2060, 7300, 1, 17082, 1920, 194, 349, 6532, 3816, 2970, 33, 3171, 2, 616, 2983, 266, 361, 2, 14465, 67, 14821, 1305, 247, 1759, 426, 2283, 963, 53, 7024, 54758, 39, 15, 1, 4, 1517, 46, 2106, 7536, 1, 17728, 1991, 207, 401, 6548, 4009, 4013, 33, 3171, 2, 781, 3061, 279, 369, 2, 15257, 68, 15195, 1381, 273, 1921, 448, 2418, 1004, 53, 7261, 56948, 44, 20, 1, 4, 1593, 46, 2139, 7703, 1, 18545, 2098, 230, 469, 6991, 4192, 4332, 33, 3251, 3, 856, 3296, 288, 399, 2, 16281, 69, 15562, 1504, 276, 2036, 469, 2533, 1088, 73, 7453, 59546, 55, 21, 1, 18, 1660, 51, 2158, 8067, 1, 19372, 2256, 242, 500, 7170, 4536, 4673, 33, 3436, 3, 1024, 3376, 289, 415, 2, 17386, 69, 15934, 1721, 295, 2164, 511, 2781, 1150, 74, 7645, 62228, 59, 27, 1, 25, 1723, 51, 2197, 8365, 1, 20246, 2425, 251, 716, 7284, 4813, 5043, 33, 3569, 4, 1185, 3636, 289, 447, 2, 18549, 70, 16343, 1923, 313, 2341, 563, 2922, 1208, 74, 7891, 65168, 62, 27, 1, 36, 1819, 51, 2233, 8617, 1, 21184, 2499, 268, 749, 7445, 5130, 5491, 33, 3679, 4, 1272, 3815, 293, 498, 2, 19844, 70, 16779, 2091, 331, 2446, 610, 3221, 1269, 74, 8089, 67655, 71, 27, 1, 43, 1948, 70, 2263, 8831, 1, 22333, 2698, 313, 907, 7823, 5501, 5630, 33, 3783, 22, 1390, 3926, 294, 547, 3, 20834, 71, 17200, 2356, 340, 2601, 659, 3408, 1326, 77, 8283, 70013, 83, 27, 1, 43, 2104, 74, 2301, 8980, 1, 23495, 2792, 420, 958, 8075, 5772, 6414, 33, 3898, 22, 1513, 4155, 301, 564, 4, 22132, 79, 17617, 2652, 345, 2718, 712, 3796, 1412, 81, 8420, 72300, 89, 27, 13, 49, 2245, 82, 2342, 9373, 1, 24586, 2891, 468, 1043, 8361, 6168, 7123, 33, 4080, 38, 1672, 4390, 301, 668, 8, 23645, 79, 18100, 2954, 359, 2857, 752, 4063, 1494, 90, 8588, 74860, 118, 33, 14, 58, 2388, 82, 2376, 9652, 2, 25872, 3020, 468, 1085, 8729, 6508, 7483, 33, 4223, 42, 1988, 4493, 301, 756, 12, 25004, 166, 18584, 3281, 383, 3142, 793, 4320, 1588, 90, 8762, 77793, 124, 33, 17, 80, 2478, 82, 2415, 9862, 2, 27256, 3147, 644, 1153, 9237, 6876, 7610, 33, 4303, 45, 2153, 4596, 304, 879, 14, 26334, 196, 19094, 3597, 393, 3324, 881, 4835, 1699, 97, 8996, 80229, 132, 33, 22, 94, 2608, 99, 2461, 10084, 3, 28694, 3290, 692, 1215, 9733, 7303, 8192, 33, 4510, 47, 2397, 4915, 309, 923, 19, 27654, 267, 19592, 3952, 400, 3467, 1000, 5213, 1807, 99, 9228, 82968, 157, 33, 24, 107, 2781, 99, 2515, 10331, 7, 30152, 3496, 747, 1303, 9733, 7738, 8605]}],\n",
              "                        {\"plot_bgcolor\": \"rgb(230, 230, 230)\", \"template\": {\"data\": {\"bar\": [{\"error_x\": {\"color\": \"#2a3f5f\"}, \"error_y\": {\"color\": \"#2a3f5f\"}, \"marker\": {\"line\": {\"color\": \"#E5ECF6\", \"width\": 0.5}}, \"type\": \"bar\"}], \"barpolar\": [{\"marker\": {\"line\": {\"color\": \"#E5ECF6\", \"width\": 0.5}}, \"type\": \"barpolar\"}], \"carpet\": [{\"aaxis\": {\"endlinecolor\": \"#2a3f5f\", \"gridcolor\": \"white\", \"linecolor\": \"white\", \"minorgridcolor\": \"white\", \"startlinecolor\": \"#2a3f5f\"}, \"baxis\": {\"endlinecolor\": \"#2a3f5f\", \"gridcolor\": \"white\", \"linecolor\": \"white\", \"minorgridcolor\": \"white\", \"startlinecolor\": \"#2a3f5f\"}, \"type\": \"carpet\"}], \"choropleth\": [{\"colorbar\": {\"outlinewidth\": 0, \"ticks\": \"\"}, \"type\": \"choropleth\"}], \"contour\": [{\"colorbar\": {\"outlinewidth\": 0, \"ticks\": \"\"}, \"colorscale\": [[0.0, \"#0d0887\"], [0.1111111111111111, \"#46039f\"], [0.2222222222222222, \"#7201a8\"], [0.3333333333333333, \"#9c179e\"], [0.4444444444444444, \"#bd3786\"], [0.5555555555555556, \"#d8576b\"], [0.6666666666666666, \"#ed7953\"], [0.7777777777777778, \"#fb9f3a\"], [0.8888888888888888, \"#fdca26\"], [1.0, \"#f0f921\"]], \"type\": \"contour\"}], \"contourcarpet\": [{\"colorbar\": {\"outlinewidth\": 0, \"ticks\": \"\"}, \"type\": \"contourcarpet\"}], \"heatmap\": [{\"colorbar\": {\"outlinewidth\": 0, \"ticks\": \"\"}, \"colorscale\": [[0.0, \"#0d0887\"], [0.1111111111111111, \"#46039f\"], [0.2222222222222222, \"#7201a8\"], [0.3333333333333333, \"#9c179e\"], [0.4444444444444444, \"#bd3786\"], [0.5555555555555556, \"#d8576b\"], [0.6666666666666666, \"#ed7953\"], [0.7777777777777778, \"#fb9f3a\"], [0.8888888888888888, \"#fdca26\"], [1.0, \"#f0f921\"]], \"type\": \"heatmap\"}], \"heatmapgl\": [{\"colorbar\": {\"outlinewidth\": 0, \"ticks\": \"\"}, \"colorscale\": [[0.0, \"#0d0887\"], [0.1111111111111111, \"#46039f\"], [0.2222222222222222, \"#7201a8\"], [0.3333333333333333, \"#9c179e\"], [0.4444444444444444, \"#bd3786\"], [0.5555555555555556, \"#d8576b\"], [0.6666666666666666, \"#ed7953\"], [0.7777777777777778, \"#fb9f3a\"], [0.8888888888888888, \"#fdca26\"], [1.0, \"#f0f921\"]], \"type\": \"heatmapgl\"}], \"histogram\": [{\"marker\": {\"colorbar\": {\"outlinewidth\": 0, \"ticks\": \"\"}}, \"type\": \"histogram\"}], \"histogram2d\": [{\"colorbar\": {\"outlinewidth\": 0, \"ticks\": \"\"}, \"colorscale\": [[0.0, \"#0d0887\"], [0.1111111111111111, \"#46039f\"], [0.2222222222222222, \"#7201a8\"], [0.3333333333333333, \"#9c179e\"], [0.4444444444444444, \"#bd3786\"], [0.5555555555555556, \"#d8576b\"], [0.6666666666666666, \"#ed7953\"], [0.7777777777777778, \"#fb9f3a\"], [0.8888888888888888, \"#fdca26\"], [1.0, \"#f0f921\"]], \"type\": \"histogram2d\"}], \"histogram2dcontour\": [{\"colorbar\": {\"outlinewidth\": 0, \"ticks\": \"\"}, \"colorscale\": [[0.0, \"#0d0887\"], [0.1111111111111111, \"#46039f\"], [0.2222222222222222, \"#7201a8\"], [0.3333333333333333, \"#9c179e\"], [0.4444444444444444, \"#bd3786\"], [0.5555555555555556, \"#d8576b\"], [0.6666666666666666, \"#ed7953\"], [0.7777777777777778, \"#fb9f3a\"], [0.8888888888888888, \"#fdca26\"], [1.0, \"#f0f921\"]], \"type\": \"histogram2dcontour\"}], \"mesh3d\": [{\"colorbar\": {\"outlinewidth\": 0, \"ticks\": \"\"}, \"type\": \"mesh3d\"}], \"parcoords\": [{\"line\": {\"colorbar\": {\"outlinewidth\": 0, \"ticks\": \"\"}}, \"type\": \"parcoords\"}], \"pie\": [{\"automargin\": true, \"type\": \"pie\"}], \"scatter\": [{\"marker\": {\"colorbar\": {\"outlinewidth\": 0, \"ticks\": \"\"}}, \"type\": \"scatter\"}], \"scatter3d\": [{\"line\": {\"colorbar\": {\"outlinewidth\": 0, \"ticks\": \"\"}}, \"marker\": {\"colorbar\": {\"outlinewidth\": 0, \"ticks\": \"\"}}, \"type\": \"scatter3d\"}], \"scattercarpet\": [{\"marker\": {\"colorbar\": {\"outlinewidth\": 0, \"ticks\": \"\"}}, \"type\": \"scattercarpet\"}], \"scattergeo\": [{\"marker\": {\"colorbar\": {\"outlinewidth\": 0, \"ticks\": \"\"}}, \"type\": \"scattergeo\"}], \"scattergl\": [{\"marker\": {\"colorbar\": {\"outlinewidth\": 0, \"ticks\": \"\"}}, \"type\": \"scattergl\"}], \"scattermapbox\": [{\"marker\": {\"colorbar\": {\"outlinewidth\": 0, \"ticks\": \"\"}}, \"type\": \"scattermapbox\"}], \"scatterpolar\": [{\"marker\": {\"colorbar\": {\"outlinewidth\": 0, \"ticks\": \"\"}}, \"type\": \"scatterpolar\"}], \"scatterpolargl\": [{\"marker\": {\"colorbar\": {\"outlinewidth\": 0, \"ticks\": \"\"}}, \"type\": \"scatterpolargl\"}], \"scatterternary\": [{\"marker\": {\"colorbar\": {\"outlinewidth\": 0, \"ticks\": \"\"}}, \"type\": \"scatterternary\"}], \"surface\": [{\"colorbar\": {\"outlinewidth\": 0, \"ticks\": \"\"}, \"colorscale\": [[0.0, \"#0d0887\"], [0.1111111111111111, \"#46039f\"], [0.2222222222222222, \"#7201a8\"], [0.3333333333333333, \"#9c179e\"], [0.4444444444444444, \"#bd3786\"], [0.5555555555555556, \"#d8576b\"], [0.6666666666666666, \"#ed7953\"], [0.7777777777777778, \"#fb9f3a\"], [0.8888888888888888, \"#fdca26\"], [1.0, \"#f0f921\"]], \"type\": \"surface\"}], \"table\": [{\"cells\": {\"fill\": {\"color\": \"#EBF0F8\"}, \"line\": {\"color\": \"white\"}}, \"header\": {\"fill\": {\"color\": \"#C8D4E3\"}, \"line\": {\"color\": \"white\"}}, \"type\": \"table\"}]}, \"layout\": {\"annotationdefaults\": {\"arrowcolor\": \"#2a3f5f\", \"arrowhead\": 0, \"arrowwidth\": 1}, \"coloraxis\": {\"colorbar\": {\"outlinewidth\": 0, \"ticks\": \"\"}}, \"colorscale\": {\"diverging\": [[0, \"#8e0152\"], [0.1, \"#c51b7d\"], [0.2, \"#de77ae\"], [0.3, \"#f1b6da\"], [0.4, \"#fde0ef\"], [0.5, \"#f7f7f7\"], [0.6, \"#e6f5d0\"], [0.7, \"#b8e186\"], [0.8, \"#7fbc41\"], [0.9, \"#4d9221\"], [1, \"#276419\"]], \"sequential\": [[0.0, \"#0d0887\"], [0.1111111111111111, \"#46039f\"], [0.2222222222222222, \"#7201a8\"], [0.3333333333333333, \"#9c179e\"], [0.4444444444444444, \"#bd3786\"], [0.5555555555555556, \"#d8576b\"], [0.6666666666666666, \"#ed7953\"], [0.7777777777777778, \"#fb9f3a\"], [0.8888888888888888, \"#fdca26\"], [1.0, \"#f0f921\"]], \"sequentialminus\": [[0.0, \"#0d0887\"], [0.1111111111111111, \"#46039f\"], [0.2222222222222222, \"#7201a8\"], [0.3333333333333333, \"#9c179e\"], [0.4444444444444444, \"#bd3786\"], [0.5555555555555556, \"#d8576b\"], [0.6666666666666666, \"#ed7953\"], [0.7777777777777778, \"#fb9f3a\"], [0.8888888888888888, \"#fdca26\"], [1.0, \"#f0f921\"]]}, \"colorway\": [\"#636efa\", \"#EF553B\", \"#00cc96\", \"#ab63fa\", \"#FFA15A\", \"#19d3f3\", \"#FF6692\", \"#B6E880\", \"#FF97FF\", \"#FECB52\"], \"font\": {\"color\": \"#2a3f5f\"}, \"geo\": {\"bgcolor\": \"white\", \"lakecolor\": \"white\", \"landcolor\": \"#E5ECF6\", \"showlakes\": true, \"showland\": true, \"subunitcolor\": \"white\"}, \"hoverlabel\": {\"align\": \"left\"}, \"hovermode\": \"closest\", \"mapbox\": {\"style\": \"light\"}, \"paper_bgcolor\": \"white\", \"plot_bgcolor\": \"#E5ECF6\", \"polar\": {\"angularaxis\": {\"gridcolor\": \"white\", \"linecolor\": \"white\", \"ticks\": \"\"}, \"bgcolor\": \"#E5ECF6\", \"radialaxis\": {\"gridcolor\": \"white\", \"linecolor\": \"white\", \"ticks\": \"\"}}, \"scene\": {\"xaxis\": {\"backgroundcolor\": \"#E5ECF6\", \"gridcolor\": \"white\", \"gridwidth\": 2, \"linecolor\": \"white\", \"showbackground\": true, \"ticks\": \"\", \"zerolinecolor\": \"white\"}, \"yaxis\": {\"backgroundcolor\": \"#E5ECF6\", \"gridcolor\": \"white\", \"gridwidth\": 2, \"linecolor\": \"white\", \"showbackground\": true, \"ticks\": \"\", \"zerolinecolor\": \"white\"}, \"zaxis\": {\"backgroundcolor\": \"#E5ECF6\", \"gridcolor\": \"white\", \"gridwidth\": 2, \"linecolor\": \"white\", \"showbackground\": true, \"ticks\": \"\", \"zerolinecolor\": \"white\"}}, \"shapedefaults\": {\"line\": {\"color\": \"#2a3f5f\"}}, \"ternary\": {\"aaxis\": {\"gridcolor\": \"white\", \"linecolor\": \"white\", \"ticks\": \"\"}, \"baxis\": {\"gridcolor\": \"white\", \"linecolor\": \"white\", \"ticks\": \"\"}, \"bgcolor\": \"#E5ECF6\", \"caxis\": {\"gridcolor\": \"white\", \"linecolor\": \"white\", \"ticks\": \"\"}}, \"title\": {\"x\": 0.05}, \"xaxis\": {\"automargin\": true, \"gridcolor\": \"white\", \"linecolor\": \"white\", \"ticks\": \"\", \"title\": {\"standoff\": 15}, \"zerolinecolor\": \"white\", \"zerolinewidth\": 2}, \"yaxis\": {\"automargin\": true, \"gridcolor\": \"white\", \"linecolor\": \"white\", \"ticks\": \"\", \"title\": {\"standoff\": 15}, \"zerolinecolor\": \"white\", \"zerolinewidth\": 2}}}, \"title\": {\"text\": \"Trend of COVID19 Cases in India\"}},\n",
              "                        {\"responsive\": true}\n",
              "                    ).then(function(){\n",
              "                            \n",
              "var gd = document.getElementById('8442874d-0ad2-49d4-a31e-c8eae3b5bae9');\n",
              "var x = new MutationObserver(function (mutations, observer) {{\n",
              "        var display = window.getComputedStyle(gd).display;\n",
              "        if (!display || display === 'none') {{\n",
              "            console.log([gd, 'removed!']);\n",
              "            Plotly.purge(gd);\n",
              "            observer.disconnect();\n",
              "        }}\n",
              "}});\n",
              "\n",
              "// Listen for the removal of the full notebook cells\n",
              "var notebookContainer = gd.closest('#notebook-container');\n",
              "if (notebookContainer) {{\n",
              "    x.observe(notebookContainer, {childList: true});\n",
              "}}\n",
              "\n",
              "// Listen for the clearing of the current output cell\n",
              "var outputEl = gd.closest('.output');\n",
              "if (outputEl) {{\n",
              "    x.observe(outputEl, {childList: true});\n",
              "}}\n",
              "\n",
              "                        })\n",
              "                };\n",
              "                \n",
              "            </script>\n",
              "        </div>\n",
              "</body>\n",
              "</html>"
            ]
          },
          "metadata": {
            "tags": []
          }
        }
      ]
    },
    {
      "cell_type": "code",
      "metadata": {
        "id": "ghidGCYnmvf8",
        "colab_type": "code",
        "outputId": "0bae70c8-294b-4a8b-fdf0-3f6a6a5aedea",
        "colab": {
          "base_uri": "https://localhost:8080/",
          "height": 596
        }
      },
      "source": [
        "confirmed_cases = df['Confirmed']\n",
        "death_cases = df['Deaths']\n",
        "cured_cases = df['Cured']\n",
        "\n",
        "plt.figure(figsize= (20,10))\n",
        "plt.xticks(rotation = 90 ,fontsize = 11)\n",
        "plt.yticks(fontsize = 10)\n",
        "plt.xlabel(\"Dates\",fontsize = 20)\n",
        "plt.ylabel('Total cases',fontsize = 20)\n",
        "plt.title(\"Total Confirmed, Active, Death in India\" , fontsize = 20)\n",
        "\n",
        "ax1 = plt.plot_date(y=confirmed_cases, x=df['Date'], label = 'Confirmed',linestyle ='solid',color = 'b')\n",
        "ax2 = plt.plot_date(y=cured_cases, x= df['Date'], label = 'Recovered',linestyle ='solid',color = 'g')\n",
        "ax3 = plt.plot_date(y=death_cases, x= df['Date'], label = 'Death',linestyle ='solid',color = 'r')\n",
        "plt.legend()"
      ],
      "execution_count": 0,
      "outputs": [
        {
          "output_type": "execute_result",
          "data": {
            "text/plain": [
              "<matplotlib.legend.Legend at 0x7f2e6de13160>"
            ]
          },
          "metadata": {
            "tags": []
          },
          "execution_count": 15
        },
        {
          "output_type": "display_data",
          "data": {
            "image/png": "[encoded data removed]",
            "text/plain": [
              "<Figure size 1440x720 with 1 Axes>"
            ]
          },
          "metadata": {
            "tags": [],
            "needs_background": "light"
          }
        }
      ]
    },
    {
      "cell_type": "code",
      "metadata": {
        "id": "C4Z38mGtm4rt",
        "colab_type": "code",
        "outputId": "5b302196-e768-4919-9f73-e8d43f901dee",
        "colab": {
          "base_uri": "https://localhost:8080/",
          "height": 741
        }
      },
      "source": [
        "plt.figure(figsize=(20,10))\n",
        "c= df.corr()\n",
        "sns.heatmap(c,cmap=\"BrBG\",annot=True)\n",
        "c"
      ],
      "execution_count": 0,
      "outputs": [
        {
          "output_type": "execute_result",
          "data": {
            "text/html": [
              "<div>\n",
              "<style scoped>\n",
              "    .dataframe tbody tr th:only-of-type {\n",
              "        vertical-align: middle;\n",
              "    }\n",
              "\n",
              "    .dataframe tbody tr th {\n",
              "        vertical-align: top;\n",
              "    }\n",
              "\n",
              "    .dataframe thead th {\n",
              "        text-align: right;\n",
              "    }\n",
              "</style>\n",
              "<table border=\"1\" class=\"dataframe\">\n",
              "  <thead>\n",
              "    <tr style=\"text-align: right;\">\n",
              "      <th></th>\n",
              "      <th>Cured</th>\n",
              "      <th>Deaths</th>\n",
              "      <th>Confirmed</th>\n",
              "      <th>Total Active</th>\n",
              "    </tr>\n",
              "  </thead>\n",
              "  <tbody>\n",
              "    <tr>\n",
              "      <th>Cured</th>\n",
              "      <td>1.000000</td>\n",
              "      <td>0.891531</td>\n",
              "      <td>0.958290</td>\n",
              "      <td>0.880849</td>\n",
              "    </tr>\n",
              "    <tr>\n",
              "      <th>Deaths</th>\n",
              "      <td>0.891531</td>\n",
              "      <td>1.000000</td>\n",
              "      <td>0.940407</td>\n",
              "      <td>0.920859</td>\n",
              "    </tr>\n",
              "    <tr>\n",
              "      <th>Confirmed</th>\n",
              "      <td>0.958290</td>\n",
              "      <td>0.940407</td>\n",
              "      <td>1.000000</td>\n",
              "      <td>0.979280</td>\n",
              "    </tr>\n",
              "    <tr>\n",
              "      <th>Total Active</th>\n",
              "      <td>0.880849</td>\n",
              "      <td>0.920859</td>\n",
              "      <td>0.979280</td>\n",
              "      <td>1.000000</td>\n",
              "    </tr>\n",
              "  </tbody>\n",
              "</table>\n",
              "</div>"
            ],
            "text/plain": [
              "                 Cured    Deaths  Confirmed  Total Active\n",
              "Cured         1.000000  0.891531   0.958290      0.880849\n",
              "Deaths        0.891531  1.000000   0.940407      0.920859\n",
              "Confirmed     0.958290  0.940407   1.000000      0.979280\n",
              "Total Active  0.880849  0.920859   0.979280      1.000000"
            ]
          },
          "metadata": {
            "tags": []
          },
          "execution_count": 16
        },
        {
          "output_type": "display_data",
          "data": {
            "image/png": "[encoded data removed]",
            "text/plain": [
              "<Figure size 1440x720 with 2 Axes>"
            ]
          },
          "metadata": {
            "tags": [],
            "needs_background": "light"
          }
        }
      ]
    },
    {
      "cell_type": "code",
      "metadata": {
        "id": "lDtZ70CMm9wk",
        "colab_type": "code",
        "outputId": "52659a82-90f3-4953-e474-d81b5335b235",
        "colab": {
          "base_uri": "https://localhost:8080/",
          "height": 689
        }
      },
      "source": [
        "import IPython\n",
        "IPython.display.HTML('<div class=\"flourish-embed flourish-bar-chart-race\" data-src=\"visualisation/1977187\" data-url=\"https://flo.uri.sh/visualisation/1977187/embed\"><script src=\"https://public.flourish.studio/resources/embed.js\"></script></div>')"
      ],
      "execution_count": 0,
      "outputs": [
        {
          "output_type": "execute_result",
          "data": {
            "text/html": [
              "<div class=\"flourish-embed flourish-bar-chart-race\" data-src=\"visualisation/1977187\" data-url=\"https://flo.uri.sh/visualisation/1977187/embed\"><script src=\"https://public.flourish.studio/resources/embed.js\"></script></div>"
            ],
            "text/plain": [
              "<IPython.core.display.HTML object>"
            ]
          },
          "metadata": {
            "tags": []
          },
          "execution_count": 17
        }
      ]
    }
  ]
}